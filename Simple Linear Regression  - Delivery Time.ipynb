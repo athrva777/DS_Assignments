{
 "cells": [
  {
   "cell_type": "code",
   "execution_count": 29,
   "id": "2bf7f60f",
   "metadata": {},
   "outputs": [],
   "source": [
    "#### importing libraries \n",
    "import pandas as pd\n",
    "import numpy as np\n",
    "import seaborn as sns\n",
    "import matplotlib.pyplot as plt\n",
    "from sklearn.linear_model import LinearRegression  ### Model\n",
    "from sklearn.metrics import r2_score,mean_squared_error"
   ]
  },
  {
   "cell_type": "code",
   "execution_count": 2,
   "id": "152f7129",
   "metadata": {},
   "outputs": [
    {
     "data": {
      "text/html": [
       "<div>\n",
       "<style scoped>\n",
       "    .dataframe tbody tr th:only-of-type {\n",
       "        vertical-align: middle;\n",
       "    }\n",
       "\n",
       "    .dataframe tbody tr th {\n",
       "        vertical-align: top;\n",
       "    }\n",
       "\n",
       "    .dataframe thead th {\n",
       "        text-align: right;\n",
       "    }\n",
       "</style>\n",
       "<table border=\"1\" class=\"dataframe\">\n",
       "  <thead>\n",
       "    <tr style=\"text-align: right;\">\n",
       "      <th></th>\n",
       "      <th>Delivery Time</th>\n",
       "      <th>Sorting Time</th>\n",
       "    </tr>\n",
       "  </thead>\n",
       "  <tbody>\n",
       "    <tr>\n",
       "      <th>0</th>\n",
       "      <td>21.00</td>\n",
       "      <td>10</td>\n",
       "    </tr>\n",
       "    <tr>\n",
       "      <th>1</th>\n",
       "      <td>13.50</td>\n",
       "      <td>4</td>\n",
       "    </tr>\n",
       "    <tr>\n",
       "      <th>2</th>\n",
       "      <td>19.75</td>\n",
       "      <td>6</td>\n",
       "    </tr>\n",
       "    <tr>\n",
       "      <th>3</th>\n",
       "      <td>24.00</td>\n",
       "      <td>9</td>\n",
       "    </tr>\n",
       "    <tr>\n",
       "      <th>4</th>\n",
       "      <td>29.00</td>\n",
       "      <td>10</td>\n",
       "    </tr>\n",
       "  </tbody>\n",
       "</table>\n",
       "</div>"
      ],
      "text/plain": [
       "   Delivery Time  Sorting Time\n",
       "0          21.00            10\n",
       "1          13.50             4\n",
       "2          19.75             6\n",
       "3          24.00             9\n",
       "4          29.00            10"
      ]
     },
     "execution_count": 2,
     "metadata": {},
     "output_type": "execute_result"
    }
   ],
   "source": [
    "#### Reading the data\n",
    "data = pd.read_csv(\"delivery_time.csv\") ### Upload the file in jupyter first\n",
    "#### Checking the 1st Five Rows\n",
    "data.head(5)"
   ]
  },
  {
   "cell_type": "code",
   "execution_count": 3,
   "id": "d5cf3a70",
   "metadata": {},
   "outputs": [
    {
     "data": {
      "text/html": [
       "<div>\n",
       "<style scoped>\n",
       "    .dataframe tbody tr th:only-of-type {\n",
       "        vertical-align: middle;\n",
       "    }\n",
       "\n",
       "    .dataframe tbody tr th {\n",
       "        vertical-align: top;\n",
       "    }\n",
       "\n",
       "    .dataframe thead th {\n",
       "        text-align: right;\n",
       "    }\n",
       "</style>\n",
       "<table border=\"1\" class=\"dataframe\">\n",
       "  <thead>\n",
       "    <tr style=\"text-align: right;\">\n",
       "      <th></th>\n",
       "      <th>Delivery Time</th>\n",
       "      <th>Sorting Time</th>\n",
       "    </tr>\n",
       "  </thead>\n",
       "  <tbody>\n",
       "    <tr>\n",
       "      <th>count</th>\n",
       "      <td>21.000000</td>\n",
       "      <td>21.000000</td>\n",
       "    </tr>\n",
       "    <tr>\n",
       "      <th>mean</th>\n",
       "      <td>16.790952</td>\n",
       "      <td>6.190476</td>\n",
       "    </tr>\n",
       "    <tr>\n",
       "      <th>std</th>\n",
       "      <td>5.074901</td>\n",
       "      <td>2.542028</td>\n",
       "    </tr>\n",
       "    <tr>\n",
       "      <th>min</th>\n",
       "      <td>8.000000</td>\n",
       "      <td>2.000000</td>\n",
       "    </tr>\n",
       "    <tr>\n",
       "      <th>25%</th>\n",
       "      <td>13.500000</td>\n",
       "      <td>4.000000</td>\n",
       "    </tr>\n",
       "    <tr>\n",
       "      <th>50%</th>\n",
       "      <td>17.830000</td>\n",
       "      <td>6.000000</td>\n",
       "    </tr>\n",
       "    <tr>\n",
       "      <th>75%</th>\n",
       "      <td>19.750000</td>\n",
       "      <td>8.000000</td>\n",
       "    </tr>\n",
       "    <tr>\n",
       "      <th>max</th>\n",
       "      <td>29.000000</td>\n",
       "      <td>10.000000</td>\n",
       "    </tr>\n",
       "  </tbody>\n",
       "</table>\n",
       "</div>"
      ],
      "text/plain": [
       "       Delivery Time  Sorting Time\n",
       "count      21.000000     21.000000\n",
       "mean       16.790952      6.190476\n",
       "std         5.074901      2.542028\n",
       "min         8.000000      2.000000\n",
       "25%        13.500000      4.000000\n",
       "50%        17.830000      6.000000\n",
       "75%        19.750000      8.000000\n",
       "max        29.000000     10.000000"
      ]
     },
     "execution_count": 3,
     "metadata": {},
     "output_type": "execute_result"
    }
   ],
   "source": [
    "#### To describe the details of the data\n",
    "data.describe()"
   ]
  },
  {
   "cell_type": "markdown",
   "id": "1fff11e5",
   "metadata": {},
   "source": [
    "## Exploratory Data Analysis"
   ]
  },
  {
   "cell_type": "code",
   "execution_count": 4,
   "id": "945ab5f2",
   "metadata": {},
   "outputs": [
    {
     "data": {
      "text/plain": [
       "Delivery Time    0\n",
       "Sorting Time     0\n",
       "dtype: int64"
      ]
     },
     "execution_count": 4,
     "metadata": {},
     "output_type": "execute_result"
    }
   ],
   "source": [
    "#### Checking of Missing Values in the data\n",
    "data.isnull().sum()"
   ]
  },
  {
   "cell_type": "code",
   "execution_count": 5,
   "id": "5ade958f",
   "metadata": {},
   "outputs": [
    {
     "data": {
      "text/plain": [
       "Text(0.5, 1.0, 'Delivery and Sorting Time Analysis')"
      ]
     },
     "execution_count": 5,
     "metadata": {},
     "output_type": "execute_result"
    },
    {
     "data": {
      "image/png": "[encoded data removed]",
      "text/plain": [
       "<Figure size 432x288 with 1 Axes>"
      ]
     },
     "metadata": {
      "needs_background": "light"
     },
     "output_type": "display_data"
    }
   ],
   "source": [
    "plt.scatter(data['Sorting Time'],data['Delivery Time'])\n",
    "plt.ylabel(\"Delivery Time\")\n",
    "plt.xlabel(\"Sorting Time\")\n",
    "plt.title(\"Delivery and Sorting Time Analysis\")"
   ]
  },
  {
   "cell_type": "markdown",
   "id": "366f9a52",
   "metadata": {},
   "source": [
    "#### Both the Columns does not have any missing values"
   ]
  },
  {
   "cell_type": "code",
   "execution_count": 6,
   "id": "59649d11",
   "metadata": {},
   "outputs": [
    {
     "name": "stdout",
     "output_type": "stream",
     "text": [
      "The number of rows is -  21\n",
      "The number of columns is -  2\n"
     ]
    }
   ],
   "source": [
    "##### Checking the Number of rows and Columns \n",
    "rows = data.shape[0]\n",
    "print(\"The number of rows is - \",rows)\n",
    "columns = data.shape[1]\n",
    "print(\"The number of columns is - \",columns)"
   ]
  },
  {
   "cell_type": "code",
   "execution_count": 31,
   "id": "ab47935f",
   "metadata": {},
   "outputs": [
    {
     "data": {
      "text/plain": [
       "<AxesSubplot:xlabel='Delivery Time'>"
      ]
     },
     "execution_count": 31,
     "metadata": {},
     "output_type": "execute_result"
    },
    {
     "data": {
      "image/png": "[encoded data removed]",
      "text/plain": [
       "<Figure size 432x288 with 1 Axes>"
      ]
     },
     "metadata": {
      "needs_background": "light"
     },
     "output_type": "display_data"
    }
   ],
   "source": [
    "sns.boxplot(x = data['Delivery Time'])"
   ]
  },
  {
   "cell_type": "code",
   "execution_count": 32,
   "id": "5b8b2651",
   "metadata": {},
   "outputs": [
    {
     "data": {
      "text/plain": [
       "<AxesSubplot:xlabel='Sorting Time'>"
      ]
     },
     "execution_count": 32,
     "metadata": {},
     "output_type": "execute_result"
    },
    {
     "data": {
      "image/png": "[encoded data removed]",
      "text/plain": [
       "<Figure size 432x288 with 1 Axes>"
      ]
     },
     "metadata": {
      "needs_background": "light"
     },
     "output_type": "display_data"
    }
   ],
   "source": [
    "sns.boxplot(x = data['Sorting Time'])"
   ]
  },
  {
   "cell_type": "code",
   "execution_count": null,
   "id": "d6b59329",
   "metadata": {},
   "outputs": [],
   "source": [
    "#### From the above two graph we can see that there are no outliers in both the columns"
   ]
  },
  {
   "cell_type": "code",
   "execution_count": 35,
   "id": "5378f091",
   "metadata": {},
   "outputs": [
    {
     "data": {
      "text/plain": [
       "<seaborn.axisgrid.FacetGrid at 0x1e8b8131970>"
      ]
     },
     "execution_count": 35,
     "metadata": {},
     "output_type": "execute_result"
    },
    {
     "data": {
      "image/png": "[encoded data removed]",
      "text/plain": [
       "<Figure size 360x360 with 1 Axes>"
      ]
     },
     "metadata": {
      "needs_background": "light"
     },
     "output_type": "display_data"
    }
   ],
   "source": [
    "sns.displot(x = data['Delivery Time'])"
   ]
  },
  {
   "cell_type": "code",
   "execution_count": 36,
   "id": "6f54c114",
   "metadata": {},
   "outputs": [
    {
     "data": {
      "text/plain": [
       "<seaborn.axisgrid.FacetGrid at 0x1e8b81d5fa0>"
      ]
     },
     "execution_count": 36,
     "metadata": {},
     "output_type": "execute_result"
    },
    {
     "data": {
      "image/png": "[encoded data removed]",
      "text/plain": [
       "<Figure size 360x360 with 1 Axes>"
      ]
     },
     "metadata": {
      "needs_background": "light"
     },
     "output_type": "display_data"
    }
   ],
   "source": [
    "sns.displot(x = data['Sorting Time'])"
   ]
  },
  {
   "cell_type": "code",
   "execution_count": null,
   "id": "80058ba4",
   "metadata": {},
   "outputs": [],
   "source": [
    "#### From the above two graph also we can see that the data is normally distributed"
   ]
  },
  {
   "cell_type": "markdown",
   "id": "1fc90e03",
   "metadata": {},
   "source": [
    "### Linear Regression Model to Predict Delivery Time"
   ]
  },
  {
   "cell_type": "code",
   "execution_count": 7,
   "id": "8e65d96b",
   "metadata": {},
   "outputs": [],
   "source": [
    "### Creating of Dependent and Independent Variables\n",
    "X = data['Sorting Time'].values\n",
    "X##### Independent Variable\n",
    "X = X.reshape(-1,1) #### Reshaping into proper numpy array."
   ]
  },
  {
   "cell_type": "code",
   "execution_count": 8,
   "id": "0e6d54f2",
   "metadata": {},
   "outputs": [
    {
     "data": {
      "text/plain": [
       "array([[10],\n",
       "       [ 4],\n",
       "       [ 6],\n",
       "       [ 9],\n",
       "       [10],\n",
       "       [ 6],\n",
       "       [ 7],\n",
       "       [ 3],\n",
       "       [10],\n",
       "       [ 9],\n",
       "       [ 8],\n",
       "       [ 4],\n",
       "       [ 7],\n",
       "       [ 3],\n",
       "       [ 3],\n",
       "       [ 4],\n",
       "       [ 6],\n",
       "       [ 7],\n",
       "       [ 2],\n",
       "       [ 7],\n",
       "       [ 5]], dtype=int64)"
      ]
     },
     "execution_count": 8,
     "metadata": {},
     "output_type": "execute_result"
    }
   ],
   "source": [
    "X  ### Independent Variable"
   ]
  },
  {
   "cell_type": "code",
   "execution_count": 9,
   "id": "1523949f",
   "metadata": {},
   "outputs": [],
   "source": [
    "y = data['Delivery Time'].values   #### Dependent Variable\n",
    "y = y.reshape(-1,1)"
   ]
  },
  {
   "cell_type": "markdown",
   "id": "555aab0b",
   "metadata": {},
   "source": [
    "#### Model Training "
   ]
  },
  {
   "cell_type": "code",
   "execution_count": 10,
   "id": "a8e3c0e7",
   "metadata": {},
   "outputs": [
    {
     "name": "stdout",
     "output_type": "stream",
     "text": [
      "The Model is Fitted and Trained\n"
     ]
    }
   ],
   "source": [
    "model = LinearRegression()\n",
    "model_training = model.fit(X,y)\n",
    "print(\"The Model is Fitted and Trained\")"
   ]
  },
  {
   "cell_type": "markdown",
   "id": "d4e63ce2",
   "metadata": {},
   "source": [
    "#### Model Prediction"
   ]
  },
  {
   "cell_type": "code",
   "execution_count": 11,
   "id": "e2254995",
   "metadata": {
    "collapsed": true
   },
   "outputs": [
    {
     "data": {
      "text/plain": [
       "array([[23.07293294],\n",
       "       [13.17881356],\n",
       "       [16.47685335],\n",
       "       [21.42391304],\n",
       "       [23.07293294],\n",
       "       [16.47685335],\n",
       "       [18.12587325],\n",
       "       [11.52979366],\n",
       "       [23.07293294],\n",
       "       [21.42391304],\n",
       "       [19.77489315],\n",
       "       [13.17881356],\n",
       "       [18.12587325],\n",
       "       [11.52979366],\n",
       "       [11.52979366],\n",
       "       [13.17881356],\n",
       "       [16.47685335],\n",
       "       [18.12587325],\n",
       "       [ 9.88077377],\n",
       "       [18.12587325],\n",
       "       [14.82783346]])"
      ]
     },
     "execution_count": 11,
     "metadata": {},
     "output_type": "execute_result"
    }
   ],
   "source": [
    "prediction = model_training.predict(X)  ####21\n",
    "prediction"
   ]
  },
  {
   "cell_type": "markdown",
   "id": "23d6c967",
   "metadata": {},
   "source": [
    "#### Model Evaluation"
   ]
  },
  {
   "cell_type": "code",
   "execution_count": 12,
   "id": "887d9108",
   "metadata": {},
   "outputs": [
    {
     "name": "stdout",
     "output_type": "stream",
     "text": [
      "The Accuracy of the training Model is -  68.23 %\n"
     ]
    }
   ],
   "source": [
    "### Training Model\n",
    "Accuracy_training_model = round(model_training.score(X,y)*100,2)  ### Round is used to round of the decimal\n",
    "print(\"The Accuracy of the training Model is - \", Accuracy_training_model,\"%\")"
   ]
  },
  {
   "cell_type": "code",
   "execution_count": 13,
   "id": "4705b5ac",
   "metadata": {},
   "outputs": [
    {
     "name": "stdout",
     "output_type": "stream",
     "text": [
      "The Accuracy of the prediction Model is -  68.23 %\n"
     ]
    }
   ],
   "source": [
    "### Prediction Accuracy\n",
    "Accuracy_prediction = round(r2_score(y,prediction)*100,2)\n",
    "print(\"The Accuracy of the prediction Model is - \", Accuracy_prediction,\"%\")"
   ]
  },
  {
   "cell_type": "code",
   "execution_count": 14,
   "id": "f3d6a61f",
   "metadata": {},
   "outputs": [
    {
     "name": "stdout",
     "output_type": "stream",
     "text": [
      "The Error of the Model is  -  7.79\n"
     ]
    }
   ],
   "source": [
    "#### Mean Squared Error\n",
    "mse = mean_squared_error(y,prediction)\n",
    "print(\"The Error of the Model is  - \", round(mse,2))"
   ]
  },
  {
   "cell_type": "code",
   "execution_count": 15,
   "id": "2f218aeb",
   "metadata": {},
   "outputs": [
    {
     "data": {
      "text/plain": [
       "Text(0.5, 1.0, 'Delivery and Sorting Time Analysis')"
      ]
     },
     "execution_count": 15,
     "metadata": {},
     "output_type": "execute_result"
    },
    {
     "data": {
      "image/png": "[encoded data removed]",
      "text/plain": [
       "<Figure size 432x288 with 1 Axes>"
      ]
     },
     "metadata": {
      "needs_background": "light"
     },
     "output_type": "display_data"
    }
   ],
   "source": [
    "plt.scatter(data['Sorting Time'],data['Delivery Time'])\n",
    "plt.plot(X,prediction,color='red')\n",
    "plt.ylabel(\"Delivery Time\")\n",
    "plt.xlabel(\"Sorting Time\")\n",
    "plt.title(\"Delivery and Sorting Time Analysis\")"
   ]
  },
  {
   "cell_type": "code",
   "execution_count": 16,
   "id": "e343bdbb",
   "metadata": {},
   "outputs": [],
   "source": [
    "#### Inference - The above figure shows you the best fit line nased on the Delivery time and Sorting Time\n",
    "### with an accuracy of 68%"
   ]
  },
  {
   "cell_type": "markdown",
   "id": "bd879086",
   "metadata": {},
   "source": [
    "##### Log Transformation - "
   ]
  },
  {
   "cell_type": "code",
   "execution_count": 22,
   "id": "641b1b78",
   "metadata": {
    "collapsed": true
   },
   "outputs": [
    {
     "data": {
      "text/plain": [
       "array([[3.04452244],\n",
       "       [2.60268969],\n",
       "       [2.98315349],\n",
       "       [3.17805383],\n",
       "       [3.36729583],\n",
       "       [2.73111547],\n",
       "       [2.94443898],\n",
       "       [2.2512918 ],\n",
       "       [2.88480071],\n",
       "       [2.93119375],\n",
       "       [2.98719594],\n",
       "       [2.37490575],\n",
       "       [2.8142104 ],\n",
       "       [2.44234704],\n",
       "       [2.48740353],\n",
       "       [2.70001803],\n",
       "       [2.62103882],\n",
       "       [2.89646427],\n",
       "       [2.07944154],\n",
       "       [2.88088243],\n",
       "       [3.06805294]])"
      ]
     },
     "execution_count": 22,
     "metadata": {},
     "output_type": "execute_result"
    }
   ],
   "source": [
    "X_log = np.log(X)\n",
    "X_log\n",
    "y_log = np.log(y)\n",
    "y_log"
   ]
  },
  {
   "cell_type": "code",
   "execution_count": 20,
   "id": "b484cfae",
   "metadata": {},
   "outputs": [
    {
     "name": "stdout",
     "output_type": "stream",
     "text": [
      "The Model is Fitted and Trained\n"
     ]
    }
   ],
   "source": [
    "model_log = LinearRegression()\n",
    "model_training_log = model_log.fit(X_log,y_log)\n",
    "print(\"The Model is Fitted and Trained\")"
   ]
  },
  {
   "cell_type": "code",
   "execution_count": 21,
   "id": "52f601c0",
   "metadata": {},
   "outputs": [
    {
     "name": "stdout",
     "output_type": "stream",
     "text": [
      "The Accuracy of the training Log Model is -  77.22 %\n"
     ]
    }
   ],
   "source": [
    "### Training Model\n",
    "Accuracy_training_model = round(model_training_log.score(X_log,y_log)*100,2)  ### Round is used to round of the decimal\n",
    "print(\"The Accuracy of the training Log Model is - \", Accuracy_training_model,\"%\")"
   ]
  },
  {
   "cell_type": "markdown",
   "id": "aca42846",
   "metadata": {},
   "source": [
    "##### Squareroot Transformation - "
   ]
  },
  {
   "cell_type": "code",
   "execution_count": 23,
   "id": "0095b764",
   "metadata": {
    "collapsed": true
   },
   "outputs": [
    {
     "data": {
      "text/plain": [
       "array([[4.58257569],\n",
       "       [3.67423461],\n",
       "       [4.44409721],\n",
       "       [4.89897949],\n",
       "       [5.38516481],\n",
       "       [3.9179076 ],\n",
       "       [4.35889894],\n",
       "       [3.082207  ],\n",
       "       [4.23083916],\n",
       "       [4.33012702],\n",
       "       [4.45308882],\n",
       "       [3.27871926],\n",
       "       [4.08411557],\n",
       "       [3.39116499],\n",
       "       [3.46842904],\n",
       "       [3.8574603 ],\n",
       "       [3.70809924],\n",
       "       [4.25558457],\n",
       "       [2.82842712],\n",
       "       [4.22255847],\n",
       "       [4.63680925]])"
      ]
     },
     "execution_count": 23,
     "metadata": {},
     "output_type": "execute_result"
    }
   ],
   "source": [
    "X_sqrt = np.sqrt(X)\n",
    "X_sqrt\n",
    "y_sqrt = np.sqrt(y)\n",
    "y_sqrt"
   ]
  },
  {
   "cell_type": "code",
   "execution_count": 24,
   "id": "385d30ac",
   "metadata": {},
   "outputs": [
    {
     "name": "stdout",
     "output_type": "stream",
     "text": [
      "The Model is Fitted and Trained\n"
     ]
    }
   ],
   "source": [
    "model_sqrt = LinearRegression()\n",
    "model_training_sqrt = model_sqrt.fit(X_sqrt,y_sqrt)\n",
    "print(\"The Model is Fitted and Trained\")"
   ]
  },
  {
   "cell_type": "code",
   "execution_count": 25,
   "id": "26c3e564",
   "metadata": {},
   "outputs": [
    {
     "name": "stdout",
     "output_type": "stream",
     "text": [
      "The Accuracy of the training Sqrt Model is -  72.92 %\n"
     ]
    }
   ],
   "source": [
    "### Training Model\n",
    "Accuracy_training_model = round(model_training_sqrt.score(X_sqrt,y_sqrt)*100,2)  ### Round is used to round of the decimal\n",
    "print(\"The Accuracy of the training Sqrt Model is - \", Accuracy_training_model,\"%\")"
   ]
  },
  {
   "cell_type": "markdown",
   "id": "9b2cff36",
   "metadata": {},
   "source": [
    "##### Square Transformation - "
   ]
  },
  {
   "cell_type": "code",
   "execution_count": 26,
   "id": "68f68c56",
   "metadata": {
    "collapsed": true
   },
   "outputs": [
    {
     "data": {
      "text/plain": [
       "array([[441.    ],\n",
       "       [182.25  ],\n",
       "       [390.0625],\n",
       "       [576.    ],\n",
       "       [841.    ],\n",
       "       [235.6225],\n",
       "       [361.    ],\n",
       "       [ 90.25  ],\n",
       "       [320.41  ],\n",
       "       [351.5625],\n",
       "       [393.2289],\n",
       "       [115.5625],\n",
       "       [278.2224],\n",
       "       [132.25  ],\n",
       "       [144.7209],\n",
       "       [221.4144],\n",
       "       [189.0625],\n",
       "       [327.9721],\n",
       "       [ 64.    ],\n",
       "       [317.9089],\n",
       "       [462.25  ]])"
      ]
     },
     "execution_count": 26,
     "metadata": {},
     "output_type": "execute_result"
    }
   ],
   "source": [
    "X_square = np.square(X)\n",
    "X_square\n",
    "y_square = np.square(y)\n",
    "y_square"
   ]
  },
  {
   "cell_type": "code",
   "execution_count": 27,
   "id": "014b42c7",
   "metadata": {},
   "outputs": [
    {
     "name": "stdout",
     "output_type": "stream",
     "text": [
      "The Model is Fitted and Trained\n"
     ]
    }
   ],
   "source": [
    "model_square = LinearRegression()\n",
    "model_training_square = model_square.fit(X_square,y_square)\n",
    "print(\"The Model is Fitted and Trained\")"
   ]
  },
  {
   "cell_type": "code",
   "execution_count": 28,
   "id": "e219e18e",
   "metadata": {},
   "outputs": [
    {
     "name": "stdout",
     "output_type": "stream",
     "text": [
      "The Accuracy of the training Sqrt Model is -  58.82 %\n"
     ]
    }
   ],
   "source": [
    "### Training Model\n",
    "Accuracy_training_model = round(model_training_square.score(X_square,y_square)*100,2)  ### Round is used to round of the decimal\n",
    "print(\"The Accuracy of the training Sqrt Model is - \", Accuracy_training_model,\"%\")"
   ]
  },
  {
   "cell_type": "code",
   "execution_count": null,
   "id": "e14657b0",
   "metadata": {},
   "outputs": [],
   "source": []
  }
 ],
 "metadata": {
  "kernelspec": {
   "display_name": "Python 3",
   "language": "python",
   "name": "python3"
  },
  "language_info": {
   "codemirror_mode": {
    "name": "ipython",
    "version": 3
   },
   "file_extension": ".py",
   "mimetype": "text/x-python",
   "name": "python",
   "nbconvert_exporter": "python",
   "pygments_lexer": "ipython3",
   "version": "3.8.8"
  }
 },
 "nbformat": 4,
 "nbformat_minor": 5
}
