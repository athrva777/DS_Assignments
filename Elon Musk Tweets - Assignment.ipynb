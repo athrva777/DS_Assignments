{
 "cells": [
  {
   "cell_type": "code",
   "execution_count": 3,
   "id": "ba7e90f7",
   "metadata": {
    "collapsed": true
   },
   "outputs": [
    {
     "name": "stdout",
     "output_type": "stream",
     "text": [
      "Collecting tweepy\n",
      "  Downloading tweepy-4.10.0-py3-none-any.whl (94 kB)\n",
      "Requirement already satisfied: requests-oauthlib<2,>=1.2.0 in c:\\users\\proyas.bose\\anaconda3\\lib\\site-packages (from tweepy) (1.3.1)\n",
      "Requirement already satisfied: oauthlib<4,>=3.2.0 in c:\\users\\proyas.bose\\anaconda3\\lib\\site-packages (from tweepy) (3.2.0)\n",
      "Requirement already satisfied: requests<3,>=2.27.0 in c:\\users\\proyas.bose\\anaconda3\\lib\\site-packages (from tweepy) (2.27.1)\n",
      "Requirement already satisfied: urllib3<1.27,>=1.21.1 in c:\\users\\proyas.bose\\anaconda3\\lib\\site-packages (from requests<3,>=2.27.0->tweepy) (1.26.4)\n",
      "Requirement already satisfied: idna<4,>=2.5 in c:\\users\\proyas.bose\\anaconda3\\lib\\site-packages (from requests<3,>=2.27.0->tweepy) (2.10)\n",
      "Requirement already satisfied: charset-normalizer~=2.0.0 in c:\\users\\proyas.bose\\anaconda3\\lib\\site-packages (from requests<3,>=2.27.0->tweepy) (2.0.12)\n",
      "Requirement already satisfied: certifi>=2017.4.17 in c:\\users\\proyas.bose\\anaconda3\\lib\\site-packages (from requests<3,>=2.27.0->tweepy) (2020.12.5)\n",
      "Installing collected packages: tweepy\n",
      "Successfully installed tweepy-4.10.0\n"
     ]
    }
   ],
   "source": [
    "#!pip install tweepy\n",
    "import re\n",
    "import nltk\n",
    "import tweepy\n",
    "import numpy as np\n",
    "import pandas as pd\n",
    "from textblob import TextBlob\n",
    "import matplotlib.pyplot as plt\n",
    "from wordcloud import WordCloud"
   ]
  },
  {
   "cell_type": "code",
   "execution_count": 6,
   "id": "8ccfb4fb",
   "metadata": {},
   "outputs": [],
   "source": [
    "df = pd.read_csv(\"E:/Freelance Projects/Coding with Jupeter Notebook for Data Science assignment/9. Text Mining/Elon_musk.csv\")"
   ]
  },
  {
   "cell_type": "code",
   "execution_count": 7,
   "id": "63826fd7",
   "metadata": {},
   "outputs": [
    {
     "data": {
      "text/html": [
       "<div>\n",
       "<style scoped>\n",
       "    .dataframe tbody tr th:only-of-type {\n",
       "        vertical-align: middle;\n",
       "    }\n",
       "\n",
       "    .dataframe tbody tr th {\n",
       "        vertical-align: top;\n",
       "    }\n",
       "\n",
       "    .dataframe thead th {\n",
       "        text-align: right;\n",
       "    }\n",
       "</style>\n",
       "<table border=\"1\" class=\"dataframe\">\n",
       "  <thead>\n",
       "    <tr style=\"text-align: right;\">\n",
       "      <th></th>\n",
       "      <th>Unnamed: 0</th>\n",
       "      <th>Text</th>\n",
       "    </tr>\n",
       "  </thead>\n",
       "  <tbody>\n",
       "    <tr>\n",
       "      <th>0</th>\n",
       "      <td>1</td>\n",
       "      <td>@kunalb11 I�m an alien</td>\n",
       "    </tr>\n",
       "    <tr>\n",
       "      <th>1</th>\n",
       "      <td>2</td>\n",
       "      <td>@ID_AA_Carmack Ray tracing on Cyberpunk with H...</td>\n",
       "    </tr>\n",
       "    <tr>\n",
       "      <th>2</th>\n",
       "      <td>3</td>\n",
       "      <td>@joerogan @Spotify Great interview!</td>\n",
       "    </tr>\n",
       "    <tr>\n",
       "      <th>3</th>\n",
       "      <td>4</td>\n",
       "      <td>@gtera27 Doge is underestimated</td>\n",
       "    </tr>\n",
       "    <tr>\n",
       "      <th>4</th>\n",
       "      <td>5</td>\n",
       "      <td>@teslacn Congratulations Tesla China for amazi...</td>\n",
       "    </tr>\n",
       "  </tbody>\n",
       "</table>\n",
       "</div>"
      ],
      "text/plain": [
       "   Unnamed: 0                                               Text\n",
       "0           1                             @kunalb11 I�m an alien\n",
       "1           2  @ID_AA_Carmack Ray tracing on Cyberpunk with H...\n",
       "2           3                @joerogan @Spotify Great interview!\n",
       "3           4                    @gtera27 Doge is underestimated\n",
       "4           5  @teslacn Congratulations Tesla China for amazi..."
      ]
     },
     "execution_count": 7,
     "metadata": {},
     "output_type": "execute_result"
    }
   ],
   "source": [
    "df.head()"
   ]
  },
  {
   "cell_type": "code",
   "execution_count": 8,
   "id": "8f81dacc",
   "metadata": {},
   "outputs": [],
   "source": [
    "df.drop('Unnamed: 0',axis = 1, inplace = True)"
   ]
  },
  {
   "cell_type": "code",
   "execution_count": 9,
   "id": "ce1cf195",
   "metadata": {},
   "outputs": [
    {
     "data": {
      "text/plain": [
       "(1999, 1)"
      ]
     },
     "execution_count": 9,
     "metadata": {},
     "output_type": "execute_result"
    }
   ],
   "source": [
    "df.shape"
   ]
  },
  {
   "cell_type": "code",
   "execution_count": 12,
   "id": "ed8fefaf",
   "metadata": {},
   "outputs": [
    {
     "data": {
      "text/html": [
       "<div>\n",
       "<style scoped>\n",
       "    .dataframe tbody tr th:only-of-type {\n",
       "        vertical-align: middle;\n",
       "    }\n",
       "\n",
       "    .dataframe tbody tr th {\n",
       "        vertical-align: top;\n",
       "    }\n",
       "\n",
       "    .dataframe thead th {\n",
       "        text-align: right;\n",
       "    }\n",
       "</style>\n",
       "<table border=\"1\" class=\"dataframe\">\n",
       "  <thead>\n",
       "    <tr style=\"text-align: right;\">\n",
       "      <th></th>\n",
       "      <th>Text</th>\n",
       "    </tr>\n",
       "  </thead>\n",
       "  <tbody>\n",
       "    <tr>\n",
       "      <th>157</th>\n",
       "      <td>@DMC_Ryan @lafebra @Gfilche There�s more storage now &amp;amp; easily upgradable</td>\n",
       "    </tr>\n",
       "    <tr>\n",
       "      <th>1253</th>\n",
       "      <td>@SavedTesla @peterdog15 Shaped like a diamond &amp;amp; aligned on true north</td>\n",
       "    </tr>\n",
       "    <tr>\n",
       "      <th>663</th>\n",
       "      <td>@ICannot_Enough @Erdayastronaut @rweb11742 Pretty close. Definitely feel &lt;U+0001F4AF&gt; if I take DayQuil. Frankly, this was one� https://t.co/hj0ThLR48N</td>\n",
       "    </tr>\n",
       "    <tr>\n",
       "      <th>1174</th>\n",
       "      <td>@ArtifactsHub That species has stood the test of time</td>\n",
       "    </tr>\n",
       "    <tr>\n",
       "      <th>51</th>\n",
       "      <td>@Dogecoinrich &lt;U+0001F923&gt;&lt;U+0001F923&gt;</td>\n",
       "    </tr>\n",
       "    <tr>\n",
       "      <th>597</th>\n",
       "      <td>@philwhln @heydave7 Because I am not an investor. Tesla is definitely not the only good company, but investing is n� https://t.co/wDUz0wnuIn</td>\n",
       "    </tr>\n",
       "    <tr>\n",
       "      <th>991</th>\n",
       "      <td>@WR4NYGov At least success is in the set of all possible outcomes this time!</td>\n",
       "    </tr>\n",
       "    <tr>\n",
       "      <th>38</th>\n",
       "      <td>@michaelhodapp_ Back to work tonight!</td>\n",
       "    </tr>\n",
       "    <tr>\n",
       "      <th>1246</th>\n",
       "      <td>@samiralyateem @ID_AA_Carmack There are a lot of pointless zeroes in FP32 neural nets. You can chop off 16 of the 3� https://t.co/mlPVbpni4y</td>\n",
       "    </tr>\n",
       "    <tr>\n",
       "      <th>1748</th>\n",
       "      <td>@EvaFoxU @schristakos @BernieSanders Haha</td>\n",
       "    </tr>\n",
       "  </tbody>\n",
       "</table>\n",
       "</div>"
      ],
      "text/plain": [
       "                                                                                                                                                         Text\n",
       "157   @DMC_Ryan @lafebra @Gfilche There�s more storage now &amp; easily upgradable                                                                           \n",
       "1253  @SavedTesla @peterdog15 Shaped like a diamond &amp; aligned on true north                                                                              \n",
       "663   @ICannot_Enough @Erdayastronaut @rweb11742 Pretty close. Definitely feel <U+0001F4AF> if I take DayQuil. Frankly, this was one� https://t.co/hj0ThLR48N\n",
       "1174  @ArtifactsHub That species has stood the test of time                                                                                                  \n",
       "51    @Dogecoinrich <U+0001F923><U+0001F923>                                                                                                                 \n",
       "597   @philwhln @heydave7 Because I am not an investor. Tesla is definitely not the only good company, but investing is n� https://t.co/wDUz0wnuIn           \n",
       "991   @WR4NYGov At least success is in the set of all possible outcomes this time!                                                                           \n",
       "38    @michaelhodapp_ Back to work tonight!                                                                                                                  \n",
       "1246  @samiralyateem @ID_AA_Carmack There are a lot of pointless zeroes in FP32 neural nets. You can chop off 16 of the 3� https://t.co/mlPVbpni4y           \n",
       "1748  @EvaFoxU @schristakos @BernieSanders Haha                                                                                                              "
      ]
     },
     "execution_count": 12,
     "metadata": {},
     "output_type": "execute_result"
    }
   ],
   "source": [
    "# let's have a look at some tweets\n",
    "pd.set_option(\"display.max_colwidth\", 1) # allows us to see the full text\n",
    "df.sample(10)"
   ]
  },
  {
   "cell_type": "code",
   "execution_count": 13,
   "id": "be50d8df",
   "metadata": {},
   "outputs": [],
   "source": [
    "# we need to remove a lot of junk(urls, tags, RT, Hashtags) from the tweets\n",
    "# so we will use regular exlpression for that\n",
    "def clean_tweets(tweets):\n",
    "  tweets = re.sub('@[A-Za-z0–9]+', '', tweets) #Removing tag(@)\n",
    "  tweets = re.sub('#', '', tweets) # Removing hashtag(#)\n",
    "  tweets = re.sub('RT[\\s]+', '', tweets) # Removing RT\n",
    "  tweets = re.sub('https?:\\/\\/\\S+', '', tweets) # Removing links\n",
    "  return tweets"
   ]
  },
  {
   "cell_type": "code",
   "execution_count": 16,
   "id": "6089e073",
   "metadata": {},
   "outputs": [],
   "source": [
    "df.Text = df.Text.apply(clean_tweets)"
   ]
  },
  {
   "cell_type": "code",
   "execution_count": 17,
   "id": "4d52c5d4",
   "metadata": {},
   "outputs": [
    {
     "name": "stderr",
     "output_type": "stream",
     "text": [
      "<ipython-input-17-ec3dc7179ffa>:2: FutureWarning: Passing a negative integer is deprecated in version 1.0 and will not be supported in future version. Instead, use None to not limit the column width.\n",
      "  pd.set_option(\"display.max_colwidth\", -1) # allows us to see the full text\n"
     ]
    },
    {
     "data": {
      "text/html": [
       "<div>\n",
       "<style scoped>\n",
       "    .dataframe tbody tr th:only-of-type {\n",
       "        vertical-align: middle;\n",
       "    }\n",
       "\n",
       "    .dataframe tbody tr th {\n",
       "        vertical-align: top;\n",
       "    }\n",
       "\n",
       "    .dataframe thead th {\n",
       "        text-align: right;\n",
       "    }\n",
       "</style>\n",
       "<table border=\"1\" class=\"dataframe\">\n",
       "  <thead>\n",
       "    <tr style=\"text-align: right;\">\n",
       "      <th></th>\n",
       "      <th>Text</th>\n",
       "    </tr>\n",
       "  </thead>\n",
       "  <tbody>\n",
       "    <tr>\n",
       "      <th>1391</th>\n",
       "      <td>Just learned that my physics prof from Penn is head of Fermilab &amp;amp; still has some of my old homework &lt;U+263A&gt;&lt;U+FE0F&gt;</td>\n",
       "    </tr>\n",
       "    <tr>\n",
       "      <th>756</th>\n",
       "      <td>Symptoms of a typical cold. Nothing unusual so far.</td>\n",
       "    </tr>\n",
       "    <tr>\n",
       "      <th>1201</th>\n",
       "      <td>60 Where is our prediction of probability inaccurate?</td>\n",
       "    </tr>\n",
       "    <tr>\n",
       "      <th>1542</th>\n",
       "      <td>Some big milestones coming up</td>\n",
       "    </tr>\n",
       "    <tr>\n",
       "      <th>1866</th>\n",
       "      <td>At some point, we should probably do advertising as art/communication/entertainment &amp;amp; to support high quality media</td>\n",
       "    </tr>\n",
       "    <tr>\n",
       "      <th>1958</th>\n",
       "      <td>305   We have reduced pricing on Model Y LR dual motor &amp;amp; will offer a LR single moto�</td>\n",
       "    </tr>\n",
       "    <tr>\n",
       "      <th>861</th>\n",
       "      <td>This build should be noticeably better with interventions</td>\n",
       "    </tr>\n",
       "    <tr>\n",
       "      <th>634</th>\n",
       "      <td>That is certainly the intention!</td>\n",
       "    </tr>\n",
       "    <tr>\n",
       "      <th>1156</th>\n",
       "      <td>45 True</td>\n",
       "    </tr>\n",
       "    <tr>\n",
       "      <th>1807</th>\n",
       "      <td>Also, we get our lithium from Australia</td>\n",
       "    </tr>\n",
       "  </tbody>\n",
       "</table>\n",
       "</div>"
      ],
      "text/plain": [
       "                                                                                                                          Text\n",
       "1391  Just learned that my physics prof from Penn is head of Fermilab &amp; still has some of my old homework <U+263A><U+FE0F>\n",
       "756    Symptoms of a typical cold. Nothing unusual so far.                                                                    \n",
       "1201  60 Where is our prediction of probability inaccurate?                                                                   \n",
       "1542  Some big milestones coming up                                                                                           \n",
       "1866   At some point, we should probably do advertising as art/communication/entertainment &amp; to support high quality media\n",
       "1958  305   We have reduced pricing on Model Y LR dual motor &amp; will offer a LR single moto�                               \n",
       "861    This build should be noticeably better with interventions                                                              \n",
       "634      That is certainly the intention!                                                                                     \n",
       "1156  45 True                                                                                                                 \n",
       "1807   Also, we get our lithium from Australia                                                                                "
      ]
     },
     "execution_count": 17,
     "metadata": {},
     "output_type": "execute_result"
    }
   ],
   "source": [
    "# let's see if it cleaned everything or not\n",
    "pd.set_option(\"display.max_colwidth\", -1) # allows us to see the full text\n",
    "df.sample(10)"
   ]
  },
  {
   "cell_type": "code",
   "execution_count": 18,
   "id": "980dff6e",
   "metadata": {},
   "outputs": [],
   "source": [
    "# let's calculate subjectivity and Polarity\n",
    "# function for subjectivity\n",
    "def calc_subj(tweet):\n",
    "    return TextBlob(tweet).sentiment.subjectivity\n",
    " \n",
    "# function for Polarity\n",
    "def calc_pola(tweet):\n",
    "    return TextBlob(tweet).sentiment.polarity\n",
    " \n",
    "df['Subjectivity'] = df.Text.apply(calc_subj)\n",
    "df['Polarity'] = df.Text.apply(calc_pola)"
   ]
  },
  {
   "cell_type": "code",
   "execution_count": 19,
   "id": "1df76410",
   "metadata": {},
   "outputs": [
    {
     "data": {
      "text/html": [
       "<div>\n",
       "<style scoped>\n",
       "    .dataframe tbody tr th:only-of-type {\n",
       "        vertical-align: middle;\n",
       "    }\n",
       "\n",
       "    .dataframe tbody tr th {\n",
       "        vertical-align: top;\n",
       "    }\n",
       "\n",
       "    .dataframe thead th {\n",
       "        text-align: right;\n",
       "    }\n",
       "</style>\n",
       "<table border=\"1\" class=\"dataframe\">\n",
       "  <thead>\n",
       "    <tr style=\"text-align: right;\">\n",
       "      <th></th>\n",
       "      <th>Text</th>\n",
       "      <th>Subjectivity</th>\n",
       "      <th>Polarity</th>\n",
       "    </tr>\n",
       "  </thead>\n",
       "  <tbody>\n",
       "    <tr>\n",
       "      <th>0</th>\n",
       "      <td>11 I�m an alien</td>\n",
       "      <td>0.750000</td>\n",
       "      <td>-0.250000</td>\n",
       "    </tr>\n",
       "    <tr>\n",
       "      <th>1</th>\n",
       "      <td>_AA_Carmack Ray tracing on Cyberpunk with HDR is next-level. Have you tried it?</td>\n",
       "      <td>0.000000</td>\n",
       "      <td>0.000000</td>\n",
       "    </tr>\n",
       "    <tr>\n",
       "      <th>2</th>\n",
       "      <td>Great interview!</td>\n",
       "      <td>0.750000</td>\n",
       "      <td>1.000000</td>\n",
       "    </tr>\n",
       "    <tr>\n",
       "      <th>3</th>\n",
       "      <td>27 Doge is underestimated</td>\n",
       "      <td>0.000000</td>\n",
       "      <td>0.000000</td>\n",
       "    </tr>\n",
       "    <tr>\n",
       "      <th>4</th>\n",
       "      <td>Congratulations Tesla China for amazing execution last year. Now on to the next for even more!!</td>\n",
       "      <td>0.366667</td>\n",
       "      <td>0.345313</td>\n",
       "    </tr>\n",
       "    <tr>\n",
       "      <th>5</th>\n",
       "      <td>Happy New Year of the Ox!</td>\n",
       "      <td>0.727273</td>\n",
       "      <td>0.485227</td>\n",
       "    </tr>\n",
       "    <tr>\n",
       "      <th>6</th>\n",
       "      <td>Frodo was the underdoge,\\nAll thought he would fail,\\nHimself most of all.</td>\n",
       "      <td>0.400000</td>\n",
       "      <td>0.000000</td>\n",
       "    </tr>\n",
       "    <tr>\n",
       "      <th>7</th>\n",
       "      <td>_  10 Haha thanks :)</td>\n",
       "      <td>0.500000</td>\n",
       "      <td>0.300000</td>\n",
       "    </tr>\n",
       "    <tr>\n",
       "      <th>8</th>\n",
       "      <td>10 Indeed! Tweets definitely do not represent real-world time allocation.</td>\n",
       "      <td>0.500000</td>\n",
       "      <td>0.000000</td>\n",
       "    </tr>\n",
       "    <tr>\n",
       "      <th>9</th>\n",
       "      <td>The most entertaining outcome is the most likely</td>\n",
       "      <td>0.675000</td>\n",
       "      <td>0.375000</td>\n",
       "    </tr>\n",
       "  </tbody>\n",
       "</table>\n",
       "</div>"
      ],
      "text/plain": [
       "                                                                                               Text  \\\n",
       "0  11 I�m an alien                                                                                    \n",
       "1  _AA_Carmack Ray tracing on Cyberpunk with HDR is next-level. Have you tried it?                    \n",
       "2    Great interview!                                                                                 \n",
       "3  27 Doge is underestimated                                                                          \n",
       "4   Congratulations Tesla China for amazing execution last year. Now on to the next for even more!!   \n",
       "5  Happy New Year of the Ox!                                                                          \n",
       "6  Frodo was the underdoge,\\nAll thought he would fail,\\nHimself most of all.                         \n",
       "7  _  10 Haha thanks :)                                                                               \n",
       "8   10 Indeed! Tweets definitely do not represent real-world time allocation.                         \n",
       "9  The most entertaining outcome is the most likely                                                   \n",
       "\n",
       "   Subjectivity  Polarity  \n",
       "0  0.750000     -0.250000  \n",
       "1  0.000000      0.000000  \n",
       "2  0.750000      1.000000  \n",
       "3  0.000000      0.000000  \n",
       "4  0.366667      0.345313  \n",
       "5  0.727273      0.485227  \n",
       "6  0.400000      0.000000  \n",
       "7  0.500000      0.300000  \n",
       "8  0.500000      0.000000  \n",
       "9  0.675000      0.375000  "
      ]
     },
     "execution_count": 19,
     "metadata": {},
     "output_type": "execute_result"
    }
   ],
   "source": [
    "# let's have quick look to our dataset\n",
    "df.head(10)"
   ]
  },
  {
   "cell_type": "code",
   "execution_count": 20,
   "id": "aef03d95",
   "metadata": {},
   "outputs": [],
   "source": [
    "# now let's classify these tweets based on their sentiment(polarity)\n",
    "def sentiment(polarity):\n",
    "    result = ''\n",
    "    if polarity > 0:\n",
    "        result = 'Positive'\n",
    "    elif polarity == 0:\n",
    "        result = 'Netural'\n",
    "    else:\n",
    "        result = 'Negative'\n",
    "    return result"
   ]
  },
  {
   "cell_type": "code",
   "execution_count": 21,
   "id": "6a0b8ff3",
   "metadata": {},
   "outputs": [],
   "source": [
    "df['Sentiment'] = df.Polarity.apply(sentiment)"
   ]
  },
  {
   "cell_type": "code",
   "execution_count": 22,
   "id": "a8c7e81a",
   "metadata": {},
   "outputs": [
    {
     "data": {
      "text/html": [
       "<div>\n",
       "<style scoped>\n",
       "    .dataframe tbody tr th:only-of-type {\n",
       "        vertical-align: middle;\n",
       "    }\n",
       "\n",
       "    .dataframe tbody tr th {\n",
       "        vertical-align: top;\n",
       "    }\n",
       "\n",
       "    .dataframe thead th {\n",
       "        text-align: right;\n",
       "    }\n",
       "</style>\n",
       "<table border=\"1\" class=\"dataframe\">\n",
       "  <thead>\n",
       "    <tr style=\"text-align: right;\">\n",
       "      <th></th>\n",
       "      <th>Text</th>\n",
       "      <th>Subjectivity</th>\n",
       "      <th>Polarity</th>\n",
       "      <th>Sentiment</th>\n",
       "    </tr>\n",
       "  </thead>\n",
       "  <tbody>\n",
       "    <tr>\n",
       "      <th>0</th>\n",
       "      <td>11 I�m an alien</td>\n",
       "      <td>0.750000</td>\n",
       "      <td>-0.250000</td>\n",
       "      <td>Negative</td>\n",
       "    </tr>\n",
       "    <tr>\n",
       "      <th>1</th>\n",
       "      <td>_AA_Carmack Ray tracing on Cyberpunk with HDR is next-level. Have you tried it?</td>\n",
       "      <td>0.000000</td>\n",
       "      <td>0.000000</td>\n",
       "      <td>Netural</td>\n",
       "    </tr>\n",
       "    <tr>\n",
       "      <th>2</th>\n",
       "      <td>Great interview!</td>\n",
       "      <td>0.750000</td>\n",
       "      <td>1.000000</td>\n",
       "      <td>Positive</td>\n",
       "    </tr>\n",
       "    <tr>\n",
       "      <th>3</th>\n",
       "      <td>27 Doge is underestimated</td>\n",
       "      <td>0.000000</td>\n",
       "      <td>0.000000</td>\n",
       "      <td>Netural</td>\n",
       "    </tr>\n",
       "    <tr>\n",
       "      <th>4</th>\n",
       "      <td>Congratulations Tesla China for amazing execution last year. Now on to the next for even more!!</td>\n",
       "      <td>0.366667</td>\n",
       "      <td>0.345313</td>\n",
       "      <td>Positive</td>\n",
       "    </tr>\n",
       "  </tbody>\n",
       "</table>\n",
       "</div>"
      ],
      "text/plain": [
       "                                                                                               Text  \\\n",
       "0  11 I�m an alien                                                                                    \n",
       "1  _AA_Carmack Ray tracing on Cyberpunk with HDR is next-level. Have you tried it?                    \n",
       "2    Great interview!                                                                                 \n",
       "3  27 Doge is underestimated                                                                          \n",
       "4   Congratulations Tesla China for amazing execution last year. Now on to the next for even more!!   \n",
       "\n",
       "   Subjectivity  Polarity Sentiment  \n",
       "0  0.750000     -0.250000  Negative  \n",
       "1  0.000000      0.000000  Netural   \n",
       "2  0.750000      1.000000  Positive  \n",
       "3  0.000000      0.000000  Netural   \n",
       "4  0.366667      0.345313  Positive  "
      ]
     },
     "execution_count": 22,
     "metadata": {},
     "output_type": "execute_result"
    }
   ],
   "source": [
    "### Print the data\n",
    "df.head()"
   ]
  },
  {
   "cell_type": "code",
   "execution_count": 23,
   "id": "ec14070e",
   "metadata": {},
   "outputs": [
    {
     "data": {
      "image/png": "[encoded data removed]",
      "text/plain": [
       "<Figure size 432x288 with 1 Axes>"
      ]
     },
     "metadata": {
      "needs_background": "light"
     },
     "output_type": "display_data"
    }
   ],
   "source": [
    "# let's see how many ratio of sentiment\n",
    "df.Sentiment.value_counts().plot(kind='bar', color='red')\n",
    "plt.title('Sentiment Classification')\n",
    "plt.show()"
   ]
  },
  {
   "cell_type": "code",
   "execution_count": 24,
   "id": "a30cbbdf",
   "metadata": {},
   "outputs": [
    {
     "data": {
      "text/plain": [
       "Text(0, 0.5, 'Subjectivity')"
      ]
     },
     "execution_count": 24,
     "metadata": {},
     "output_type": "execute_result"
    },
    {
     "data": {
      "image/png": "[encoded data removed]",
      "text/plain": [
       "<Figure size 432x288 with 1 Axes>"
      ]
     },
     "metadata": {
      "needs_background": "light"
     },
     "output_type": "display_data"
    }
   ],
   "source": [
    "plt.scatter(df.Polarity, df.Subjectivity, color='red')\n",
    "plt.title('Sentiment Analysis')\n",
    "plt.xlabel('Polarity')\n",
    "plt.ylabel('Subjectivity')"
   ]
  },
  {
   "cell_type": "code",
   "execution_count": 25,
   "id": "c168b6d7",
   "metadata": {},
   "outputs": [],
   "source": [
    "# let's see the percentage of different sentiment's class\n",
    " \n",
    "# Creat\n",
    "Df_sentiment = pd.DataFrame(df.Sentiment.value_counts(normalize=True)*100)\n",
    " \n",
    "# calculating percentage\n",
    "Df_sentiment['Total'] = df.Sentiment.value_counts()"
   ]
  },
  {
   "cell_type": "code",
   "execution_count": 26,
   "id": "056d5631",
   "metadata": {},
   "outputs": [
    {
     "data": {
      "text/html": [
       "<div>\n",
       "<style scoped>\n",
       "    .dataframe tbody tr th:only-of-type {\n",
       "        vertical-align: middle;\n",
       "    }\n",
       "\n",
       "    .dataframe tbody tr th {\n",
       "        vertical-align: top;\n",
       "    }\n",
       "\n",
       "    .dataframe thead th {\n",
       "        text-align: right;\n",
       "    }\n",
       "</style>\n",
       "<table border=\"1\" class=\"dataframe\">\n",
       "  <thead>\n",
       "    <tr style=\"text-align: right;\">\n",
       "      <th></th>\n",
       "      <th>Sentiment</th>\n",
       "      <th>Total</th>\n",
       "    </tr>\n",
       "  </thead>\n",
       "  <tbody>\n",
       "    <tr>\n",
       "      <th>Netural</th>\n",
       "      <td>44.972486</td>\n",
       "      <td>899</td>\n",
       "    </tr>\n",
       "    <tr>\n",
       "      <th>Positive</th>\n",
       "      <td>44.272136</td>\n",
       "      <td>885</td>\n",
       "    </tr>\n",
       "    <tr>\n",
       "      <th>Negative</th>\n",
       "      <td>10.755378</td>\n",
       "      <td>215</td>\n",
       "    </tr>\n",
       "  </tbody>\n",
       "</table>\n",
       "</div>"
      ],
      "text/plain": [
       "          Sentiment  Total\n",
       "Netural   44.972486  899  \n",
       "Positive  44.272136  885  \n",
       "Negative  10.755378  215  "
      ]
     },
     "execution_count": 26,
     "metadata": {},
     "output_type": "execute_result"
    }
   ],
   "source": [
    "Df_sentiment"
   ]
  },
  {
   "cell_type": "code",
   "execution_count": null,
   "id": "74b1296d",
   "metadata": {},
   "outputs": [],
   "source": []
  }
 ],
 "metadata": {
  "kernelspec": {
   "display_name": "Python 3",
   "language": "python",
   "name": "python3"
  },
  "language_info": {
   "codemirror_mode": {
    "name": "ipython",
    "version": 3
   },
   "file_extension": ".py",
   "mimetype": "text/x-python",
   "name": "python",
   "nbconvert_exporter": "python",
   "pygments_lexer": "ipython3",
   "version": "3.8.8"
  }
 },
 "nbformat": 4,
 "nbformat_minor": 5
}
