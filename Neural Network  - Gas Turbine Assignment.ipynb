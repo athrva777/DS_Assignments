{
 "cells": [
  {
   "cell_type": "code",
   "execution_count": 1,
   "id": "07c194db",
   "metadata": {},
   "outputs": [],
   "source": [
    "import pandas as pd\n",
    "import tensorflow\n",
    "from tensorflow.keras.models import Sequential\n",
    "from tensorflow.keras.layers import Dense\n",
    "from tensorflow.keras.layers import ReLU\n",
    "from sklearn.preprocessing import StandardScaler\n",
    "from sklearn.model_selection import train_test_split\n",
    "import seaborn as sns\n",
    "sns.set(rc={\"figure.figsize\":(10, 8)})"
   ]
  },
  {
   "cell_type": "code",
   "execution_count": 2,
   "id": "9311c986",
   "metadata": {},
   "outputs": [],
   "source": [
    "#### Reading the datasets\n",
    "data = pd.read_csv(\"E:/Freelance Projects/Coding with Jupeter Notebook for Data Science assignment/11. Neural Networks/gas_turbines.csv\")"
   ]
  },
  {
   "cell_type": "code",
   "execution_count": 3,
   "id": "8c8bde4c",
   "metadata": {},
   "outputs": [
    {
     "data": {
      "text/html": [
       "<div>\n",
       "<style scoped>\n",
       "    .dataframe tbody tr th:only-of-type {\n",
       "        vertical-align: middle;\n",
       "    }\n",
       "\n",
       "    .dataframe tbody tr th {\n",
       "        vertical-align: top;\n",
       "    }\n",
       "\n",
       "    .dataframe thead th {\n",
       "        text-align: right;\n",
       "    }\n",
       "</style>\n",
       "<table border=\"1\" class=\"dataframe\">\n",
       "  <thead>\n",
       "    <tr style=\"text-align: right;\">\n",
       "      <th></th>\n",
       "      <th>AT</th>\n",
       "      <th>AP</th>\n",
       "      <th>AH</th>\n",
       "      <th>AFDP</th>\n",
       "      <th>GTEP</th>\n",
       "      <th>TIT</th>\n",
       "      <th>TAT</th>\n",
       "      <th>TEY</th>\n",
       "      <th>CDP</th>\n",
       "      <th>CO</th>\n",
       "      <th>NOX</th>\n",
       "    </tr>\n",
       "  </thead>\n",
       "  <tbody>\n",
       "    <tr>\n",
       "      <th>0</th>\n",
       "      <td>6.8594</td>\n",
       "      <td>1007.9</td>\n",
       "      <td>96.799</td>\n",
       "      <td>3.5000</td>\n",
       "      <td>19.663</td>\n",
       "      <td>1059.2</td>\n",
       "      <td>550.00</td>\n",
       "      <td>114.70</td>\n",
       "      <td>10.605</td>\n",
       "      <td>3.1547</td>\n",
       "      <td>82.722</td>\n",
       "    </tr>\n",
       "    <tr>\n",
       "      <th>1</th>\n",
       "      <td>6.7850</td>\n",
       "      <td>1008.4</td>\n",
       "      <td>97.118</td>\n",
       "      <td>3.4998</td>\n",
       "      <td>19.728</td>\n",
       "      <td>1059.3</td>\n",
       "      <td>550.00</td>\n",
       "      <td>114.72</td>\n",
       "      <td>10.598</td>\n",
       "      <td>3.2363</td>\n",
       "      <td>82.776</td>\n",
       "    </tr>\n",
       "    <tr>\n",
       "      <th>2</th>\n",
       "      <td>6.8977</td>\n",
       "      <td>1008.8</td>\n",
       "      <td>95.939</td>\n",
       "      <td>3.4824</td>\n",
       "      <td>19.779</td>\n",
       "      <td>1059.4</td>\n",
       "      <td>549.87</td>\n",
       "      <td>114.71</td>\n",
       "      <td>10.601</td>\n",
       "      <td>3.2012</td>\n",
       "      <td>82.468</td>\n",
       "    </tr>\n",
       "    <tr>\n",
       "      <th>3</th>\n",
       "      <td>7.0569</td>\n",
       "      <td>1009.2</td>\n",
       "      <td>95.249</td>\n",
       "      <td>3.4805</td>\n",
       "      <td>19.792</td>\n",
       "      <td>1059.6</td>\n",
       "      <td>549.99</td>\n",
       "      <td>114.72</td>\n",
       "      <td>10.606</td>\n",
       "      <td>3.1923</td>\n",
       "      <td>82.670</td>\n",
       "    </tr>\n",
       "    <tr>\n",
       "      <th>4</th>\n",
       "      <td>7.3978</td>\n",
       "      <td>1009.7</td>\n",
       "      <td>95.150</td>\n",
       "      <td>3.4976</td>\n",
       "      <td>19.765</td>\n",
       "      <td>1059.7</td>\n",
       "      <td>549.98</td>\n",
       "      <td>114.72</td>\n",
       "      <td>10.612</td>\n",
       "      <td>3.2484</td>\n",
       "      <td>82.311</td>\n",
       "    </tr>\n",
       "  </tbody>\n",
       "</table>\n",
       "</div>"
      ],
      "text/plain": [
       "       AT      AP      AH    AFDP    GTEP     TIT     TAT     TEY     CDP  \\\n",
       "0  6.8594  1007.9  96.799  3.5000  19.663  1059.2  550.00  114.70  10.605   \n",
       "1  6.7850  1008.4  97.118  3.4998  19.728  1059.3  550.00  114.72  10.598   \n",
       "2  6.8977  1008.8  95.939  3.4824  19.779  1059.4  549.87  114.71  10.601   \n",
       "3  7.0569  1009.2  95.249  3.4805  19.792  1059.6  549.99  114.72  10.606   \n",
       "4  7.3978  1009.7  95.150  3.4976  19.765  1059.7  549.98  114.72  10.612   \n",
       "\n",
       "       CO     NOX  \n",
       "0  3.1547  82.722  \n",
       "1  3.2363  82.776  \n",
       "2  3.2012  82.468  \n",
       "3  3.1923  82.670  \n",
       "4  3.2484  82.311  "
      ]
     },
     "execution_count": 3,
     "metadata": {},
     "output_type": "execute_result"
    }
   ],
   "source": [
    "data.head()"
   ]
  },
  {
   "cell_type": "code",
   "execution_count": 4,
   "id": "5dd16159",
   "metadata": {},
   "outputs": [
    {
     "data": {
      "image/png": "[encoded data removed]",
      "text/plain": [
       "<Figure size 720x576 with 2 Axes>"
      ]
     },
     "metadata": {},
     "output_type": "display_data"
    }
   ],
   "source": [
    "#### Exploratory Data Analysis\n",
    "fig = sns.heatmap(data.corr(), annot = True)"
   ]
  },
  {
   "cell_type": "code",
   "execution_count": 5,
   "id": "afc0768d",
   "metadata": {},
   "outputs": [
    {
     "data": {
      "text/plain": [
       "Index(['AT', 'AP', 'AH', 'AFDP', 'GTEP', 'TIT', 'TAT', 'TEY', 'CDP', 'CO',\n",
       "       'NOX'],\n",
       "      dtype='object')"
      ]
     },
     "execution_count": 5,
     "metadata": {},
     "output_type": "execute_result"
    }
   ],
   "source": [
    "data.columns"
   ]
  },
  {
   "cell_type": "code",
   "execution_count": 6,
   "id": "3ef7df6c",
   "metadata": {},
   "outputs": [
    {
     "data": {
      "text/plain": [
       "(15039, 10)"
      ]
     },
     "execution_count": 6,
     "metadata": {},
     "output_type": "execute_result"
    }
   ],
   "source": [
    "X = data[['AT', 'AP', 'AH', 'AFDP', 'GTEP', 'TIT', 'TAT','CDP', 'CO','NOX']]\n",
    "X.shape"
   ]
  },
  {
   "cell_type": "code",
   "execution_count": 7,
   "id": "139a5a90",
   "metadata": {},
   "outputs": [
    {
     "data": {
      "text/plain": [
       "(15039,)"
      ]
     },
     "execution_count": 7,
     "metadata": {},
     "output_type": "execute_result"
    }
   ],
   "source": [
    "y = data['TEY']\n",
    "y.shape"
   ]
  },
  {
   "cell_type": "code",
   "execution_count": 8,
   "id": "b984cfcf",
   "metadata": {},
   "outputs": [],
   "source": [
    "X_train,X_test,y_train,y_test = train_test_split(X,y,test_size=0.3,random_state=42)"
   ]
  },
  {
   "cell_type": "code",
   "execution_count": 9,
   "id": "7460e739",
   "metadata": {},
   "outputs": [],
   "source": [
    "###### Scaling the Data\n",
    "sc = StandardScaler()   ### \n",
    "X_train = sc.fit_transform(X_train)\n",
    "X_test = sc.fit_transform(X_test)"
   ]
  },
  {
   "cell_type": "code",
   "execution_count": 24,
   "id": "e2fe2c2d",
   "metadata": {
    "collapsed": true
   },
   "outputs": [
    {
     "data": {
      "text/plain": [
       "array([[ 0.09064825, -0.46034064,  0.93269519, ..., -1.37938636,\n",
       "         0.19390583, -0.74980549],\n",
       "       [-1.37711607,  1.71168127, -0.47586479, ...,  1.83720977,\n",
       "        -0.68140743, -0.31903163],\n",
       "       [-1.04551275, -1.17913925,  1.35013747, ...,  1.42049579,\n",
       "        -0.6524709 ,  0.20584473],\n",
       "       ...,\n",
       "       [-0.18703153,  0.25845798, -0.21689999, ..., -1.51738315,\n",
       "         1.64099971, -0.01045629],\n",
       "       [-1.63925319,  0.539727  ,  0.66649068, ..., -1.46926585,\n",
       "         1.43406186,  4.37868389],\n",
       "       [-1.55453509,  2.07108058,  0.27663174, ..., -0.37981754,\n",
       "         0.10733252,  1.2320237 ]])"
      ]
     },
     "execution_count": 24,
     "metadata": {},
     "output_type": "execute_result"
    }
   ],
   "source": [
    "X_train"
   ]
  },
  {
   "cell_type": "code",
   "execution_count": 10,
   "id": "c2864655",
   "metadata": {},
   "outputs": [],
   "source": [
    "model = Sequential()"
   ]
  },
  {
   "cell_type": "code",
   "execution_count": 11,
   "id": "46c8af90",
   "metadata": {},
   "outputs": [],
   "source": [
    "#### Adding the Input Layer\n",
    "model.add(Dense(units = 10,activation = 'relu'))"
   ]
  },
  {
   "cell_type": "code",
   "execution_count": 12,
   "id": "35ea6d2d",
   "metadata": {},
   "outputs": [],
   "source": [
    "#### Adding the 1st Hidden layer\n",
    "model.add(Dense(units = 7, activation = 'relu'))"
   ]
  },
  {
   "cell_type": "code",
   "execution_count": 13,
   "id": "4433c0ed",
   "metadata": {},
   "outputs": [],
   "source": [
    "#### Adding the 2nd Hidden layer\n",
    "model.add(Dense(units = 6, activation = 'relu'))"
   ]
  },
  {
   "cell_type": "code",
   "execution_count": 14,
   "id": "7ed1a77c",
   "metadata": {},
   "outputs": [],
   "source": [
    "### Adding the output Layer\n",
    "model.add(Dense(1,activation = 'relu'))"
   ]
  },
  {
   "cell_type": "code",
   "execution_count": 36,
   "id": "a4d1ef51",
   "metadata": {},
   "outputs": [],
   "source": [
    "model.compile(optimizer='adam',loss='mean_absolute_error',metrics= ['mean_squared_error'])"
   ]
  },
  {
   "cell_type": "code",
   "execution_count": 37,
   "id": "0a58c221",
   "metadata": {},
   "outputs": [
    {
     "name": "stdout",
     "output_type": "stream",
     "text": [
      "Epoch 1/50\n",
      "297/297 [==============================] - 1s 2ms/step - loss: 0.5005 - mean_squared_error: 0.4981 - val_loss: 0.4911 - val_mean_squared_error: 0.4654\n",
      "Epoch 2/50\n",
      "297/297 [==============================] - 0s 1ms/step - loss: 0.5079 - mean_squared_error: 0.5059 - val_loss: 0.6184 - val_mean_squared_error: 0.6687\n",
      "Epoch 3/50\n",
      "297/297 [==============================] - 0s 1ms/step - loss: 0.5001 - mean_squared_error: 0.4963 - val_loss: 0.5475 - val_mean_squared_error: 0.5408\n",
      "Epoch 4/50\n",
      "297/297 [==============================] - 0s 1ms/step - loss: 0.5038 - mean_squared_error: 0.5044 - val_loss: 0.5672 - val_mean_squared_error: 0.6163\n",
      "Epoch 5/50\n",
      "297/297 [==============================] - 0s 1ms/step - loss: 0.5128 - mean_squared_error: 0.5110 - val_loss: 0.5014 - val_mean_squared_error: 0.5067\n",
      "Epoch 6/50\n",
      "297/297 [==============================] - 0s 1ms/step - loss: 0.5043 - mean_squared_error: 0.5062 - val_loss: 0.4752 - val_mean_squared_error: 0.4413\n",
      "Epoch 7/50\n",
      "297/297 [==============================] - 0s 1ms/step - loss: 0.5100 - mean_squared_error: 0.5176 - val_loss: 0.5883 - val_mean_squared_error: 0.5887\n",
      "Epoch 8/50\n",
      "297/297 [==============================] - 0s 1ms/step - loss: 0.4944 - mean_squared_error: 0.4848 - val_loss: 0.5175 - val_mean_squared_error: 0.4853\n",
      "Epoch 9/50\n",
      "297/297 [==============================] - 0s 1ms/step - loss: 0.5031 - mean_squared_error: 0.4966 - val_loss: 0.5218 - val_mean_squared_error: 0.4962\n",
      "Epoch 10/50\n",
      "297/297 [==============================] - 0s 1ms/step - loss: 0.4965 - mean_squared_error: 0.4930 - val_loss: 0.4740 - val_mean_squared_error: 0.4530\n",
      "Epoch 11/50\n",
      "297/297 [==============================] - 0s 1ms/step - loss: 0.4939 - mean_squared_error: 0.4907 - val_loss: 0.4992 - val_mean_squared_error: 0.5025\n",
      "Epoch 12/50\n",
      "297/297 [==============================] - 0s 1ms/step - loss: 0.5002 - mean_squared_error: 0.4961 - val_loss: 0.4950 - val_mean_squared_error: 0.5011\n",
      "Epoch 13/50\n",
      "297/297 [==============================] - 0s 1ms/step - loss: 0.4955 - mean_squared_error: 0.4889 - val_loss: 0.4679 - val_mean_squared_error: 0.4553\n",
      "Epoch 14/50\n",
      "297/297 [==============================] - 0s 1ms/step - loss: 0.4992 - mean_squared_error: 0.4972 - val_loss: 0.5112 - val_mean_squared_error: 0.5138\n",
      "Epoch 15/50\n",
      "297/297 [==============================] - 0s 1ms/step - loss: 0.4907 - mean_squared_error: 0.4835 - val_loss: 0.4600 - val_mean_squared_error: 0.4284\n",
      "Epoch 16/50\n",
      "297/297 [==============================] - 0s 1ms/step - loss: 0.4955 - mean_squared_error: 0.4891 - val_loss: 0.5624 - val_mean_squared_error: 0.6232\n",
      "Epoch 17/50\n",
      "297/297 [==============================] - 0s 1ms/step - loss: 0.5005 - mean_squared_error: 0.4961 - val_loss: 0.5634 - val_mean_squared_error: 0.5410\n",
      "Epoch 18/50\n",
      "297/297 [==============================] - 0s 1ms/step - loss: 0.5048 - mean_squared_error: 0.5034 - val_loss: 0.5136 - val_mean_squared_error: 0.5473\n",
      "Epoch 19/50\n",
      "297/297 [==============================] - 0s 1ms/step - loss: 0.4996 - mean_squared_error: 0.4921 - val_loss: 0.4674 - val_mean_squared_error: 0.4491\n",
      "Epoch 20/50\n",
      "297/297 [==============================] - 0s 1ms/step - loss: 0.4935 - mean_squared_error: 0.4864 - val_loss: 0.4999 - val_mean_squared_error: 0.5227\n",
      "Epoch 21/50\n",
      "297/297 [==============================] - 0s 1ms/step - loss: 0.5002 - mean_squared_error: 0.4934 - val_loss: 0.5226 - val_mean_squared_error: 0.4995\n",
      "Epoch 22/50\n",
      "297/297 [==============================] - 0s 1ms/step - loss: 0.5028 - mean_squared_error: 0.5010 - val_loss: 0.4842 - val_mean_squared_error: 0.4821\n",
      "Epoch 23/50\n",
      "297/297 [==============================] - 0s 1ms/step - loss: 0.4941 - mean_squared_error: 0.4895 - val_loss: 0.5135 - val_mean_squared_error: 0.4762\n",
      "Epoch 24/50\n",
      "297/297 [==============================] - 0s 1ms/step - loss: 0.4989 - mean_squared_error: 0.4975 - val_loss: 0.4917 - val_mean_squared_error: 0.5050\n",
      "Epoch 25/50\n",
      "297/297 [==============================] - 0s 1ms/step - loss: 0.4988 - mean_squared_error: 0.4907 - val_loss: 0.5466 - val_mean_squared_error: 0.5646\n",
      "Epoch 26/50\n",
      "297/297 [==============================] - 0s 1ms/step - loss: 0.5094 - mean_squared_error: 0.5056 - val_loss: 0.4999 - val_mean_squared_error: 0.4790\n",
      "Epoch 27/50\n",
      "297/297 [==============================] - 0s 1ms/step - loss: 0.5038 - mean_squared_error: 0.4976 - val_loss: 0.5396 - val_mean_squared_error: 0.5198\n",
      "Epoch 28/50\n",
      "297/297 [==============================] - 0s 1ms/step - loss: 0.5023 - mean_squared_error: 0.4957 - val_loss: 0.4934 - val_mean_squared_error: 0.5267\n",
      "Epoch 29/50\n",
      "297/297 [==============================] - 0s 1ms/step - loss: 0.5090 - mean_squared_error: 0.5116 - val_loss: 0.5321 - val_mean_squared_error: 0.5124\n",
      "Epoch 30/50\n",
      "297/297 [==============================] - 0s 1ms/step - loss: 0.4971 - mean_squared_error: 0.4946 - val_loss: 0.5038 - val_mean_squared_error: 0.4834\n",
      "Epoch 31/50\n",
      "297/297 [==============================] - 0s 1ms/step - loss: 0.5103 - mean_squared_error: 0.5116 - val_loss: 0.4882 - val_mean_squared_error: 0.4973\n",
      "Epoch 32/50\n",
      "297/297 [==============================] - 0s 1ms/step - loss: 0.4907 - mean_squared_error: 0.4874 - val_loss: 0.4595 - val_mean_squared_error: 0.4552\n",
      "Epoch 33/50\n",
      "297/297 [==============================] - 0s 1ms/step - loss: 0.4984 - mean_squared_error: 0.4949 - val_loss: 0.7203 - val_mean_squared_error: 0.8273\n",
      "Epoch 34/50\n",
      "297/297 [==============================] - 0s 1ms/step - loss: 0.5071 - mean_squared_error: 0.5055 - val_loss: 0.5029 - val_mean_squared_error: 0.4844\n",
      "Epoch 35/50\n",
      "297/297 [==============================] - 0s 1ms/step - loss: 0.5005 - mean_squared_error: 0.4948 - val_loss: 0.5121 - val_mean_squared_error: 0.5157\n",
      "Epoch 36/50\n",
      "297/297 [==============================] - 0s 1ms/step - loss: 0.4973 - mean_squared_error: 0.4942 - val_loss: 0.5573 - val_mean_squared_error: 0.6511\n",
      "Epoch 37/50\n",
      "297/297 [==============================] - 0s 1ms/step - loss: 0.5036 - mean_squared_error: 0.5071 - val_loss: 0.4501 - val_mean_squared_error: 0.4184\n",
      "Epoch 38/50\n",
      "297/297 [==============================] - 0s 1ms/step - loss: 0.5035 - mean_squared_error: 0.5056 - val_loss: 0.5023 - val_mean_squared_error: 0.4800\n",
      "Epoch 39/50\n",
      "297/297 [==============================] - 0s 1ms/step - loss: 0.4959 - mean_squared_error: 0.4899 - val_loss: 0.5642 - val_mean_squared_error: 0.5380\n",
      "Epoch 40/50\n",
      "297/297 [==============================] - 0s 1ms/step - loss: 0.5053 - mean_squared_error: 0.5140 - val_loss: 0.4760 - val_mean_squared_error: 0.4569\n",
      "Epoch 41/50\n",
      "297/297 [==============================] - 0s 1ms/step - loss: 0.4955 - mean_squared_error: 0.4891 - val_loss: 0.8066 - val_mean_squared_error: 0.9150\n",
      "Epoch 42/50\n",
      "297/297 [==============================] - 0s 1ms/step - loss: 0.5021 - mean_squared_error: 0.5028 - val_loss: 0.4902 - val_mean_squared_error: 0.4693\n",
      "Epoch 43/50\n",
      "297/297 [==============================] - 0s 1ms/step - loss: 0.5094 - mean_squared_error: 0.5078 - val_loss: 0.5327 - val_mean_squared_error: 0.5178\n",
      "Epoch 44/50\n",
      "297/297 [==============================] - 0s 1ms/step - loss: 0.5045 - mean_squared_error: 0.5013 - val_loss: 0.5526 - val_mean_squared_error: 0.5203\n",
      "Epoch 45/50\n",
      "297/297 [==============================] - 0s 1ms/step - loss: 0.5018 - mean_squared_error: 0.4949 - val_loss: 0.4854 - val_mean_squared_error: 0.4635\n",
      "Epoch 46/50\n",
      "297/297 [==============================] - 0s 1ms/step - loss: 0.4975 - mean_squared_error: 0.4925 - val_loss: 0.4759 - val_mean_squared_error: 0.4611\n",
      "Epoch 47/50\n",
      "297/297 [==============================] - 0s 1ms/step - loss: 0.5039 - mean_squared_error: 0.4959 - val_loss: 0.4784 - val_mean_squared_error: 0.4531\n",
      "Epoch 48/50\n",
      "297/297 [==============================] - 0s 2ms/step - loss: 0.5003 - mean_squared_error: 0.4971 - val_loss: 0.5230 - val_mean_squared_error: 0.5716\n",
      "Epoch 49/50\n",
      "297/297 [==============================] - 0s 1ms/step - loss: 0.5050 - mean_squared_error: 0.5056 - val_loss: 0.4481 - val_mean_squared_error: 0.4261\n",
      "Epoch 50/50\n",
      "297/297 [==============================] - 0s 2ms/step - loss: 0.4889 - mean_squared_error: 0.4807 - val_loss: 0.4534 - val_mean_squared_error: 0.4296\n"
     ]
    }
   ],
   "source": [
    "model_his = model.fit(X_train,y_train,validation_split=0.1,epochs=50)"
   ]
  },
  {
   "cell_type": "code",
   "execution_count": 25,
   "id": "049df1b7",
   "metadata": {},
   "outputs": [],
   "source": [
    "y_pred = model.predict(X_test)"
   ]
  },
  {
   "cell_type": "code",
   "execution_count": 26,
   "id": "da80372b",
   "metadata": {},
   "outputs": [
    {
     "data": {
      "text/plain": [
       "array([[134.78792],\n",
       "       [112.57276],\n",
       "       [134.45706],\n",
       "       ...,\n",
       "       [155.9103 ],\n",
       "       [133.71655],\n",
       "       [156.60248]], dtype=float32)"
      ]
     },
     "execution_count": 26,
     "metadata": {},
     "output_type": "execute_result"
    }
   ],
   "source": [
    "y_pred"
   ]
  },
  {
   "cell_type": "code",
   "execution_count": null,
   "id": "e1f98259",
   "metadata": {},
   "outputs": [],
   "source": [
    "from sklearn.metrics import r2_score"
   ]
  }
 ],
 "metadata": {
  "kernelspec": {
   "display_name": "Python 3",
   "language": "python",
   "name": "python3"
  },
  "language_info": {
   "codemirror_mode": {
    "name": "ipython",
    "version": 3
   },
   "file_extension": ".py",
   "mimetype": "text/x-python",
   "name": "python",
   "nbconvert_exporter": "python",
   "pygments_lexer": "ipython3",
   "version": "3.8.8"
  }
 },
 "nbformat": 4,
 "nbformat_minor": 5
}
