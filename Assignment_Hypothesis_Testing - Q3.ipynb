{
 "cells": [
  {
   "cell_type": "markdown",
   "id": "2447d230",
   "metadata": {},
   "source": [
    "## Importing libraries"
   ]
  },
  {
   "cell_type": "code",
   "execution_count": 1,
   "id": "1aeac79d",
   "metadata": {},
   "outputs": [],
   "source": [
    "import scipy.stats as stats\n",
    "import statsmodels.api as sm\n",
    "import numpy as np\n",
    "import pandas as pd\n",
    "import warnings\n",
    "warnings.filterwarnings(\"ignore\")\n",
    "import matplotlib.pyplot as plt\n",
    "import seaborn as sns"
   ]
  },
  {
   "cell_type": "markdown",
   "id": "a59dc84f",
   "metadata": {},
   "source": [
    "# Question 3"
   ]
  },
  {
   "cell_type": "markdown",
   "id": "0d88d314",
   "metadata": {},
   "source": [
    "## We are going to conduct a Test of Independence using Chi-Square $\\chi_2$ test with Contingency table"
   ]
  },
  {
   "cell_type": "markdown",
   "id": "ac72de0e",
   "metadata": {},
   "source": [
    "### We need to check whether the proportion of any of these samples are different or the same?"
   ]
  },
  {
   "cell_type": "markdown",
   "id": "bf653886",
   "metadata": {},
   "source": [
    "## Step 1\n",
    "#### Make two Hypothesis one contradicting to other \n",
    "#### Null Hypothesis is want we want to prove"
   ]
  },
  {
   "cell_type": "markdown",
   "id": "64ed3c27",
   "metadata": {},
   "source": [
    "+ **Null Hypothesis:** There is no association or dependency between the gender based buyer rations across regions\n",
    "+ **Alternative Hypthosis:** There is a significant association or dependency between the gender based buyer rations across regions"
   ]
  },
  {
   "cell_type": "markdown",
   "id": "14f04129",
   "metadata": {},
   "source": [
    "## Step 2\n",
    "### Decide a cut-off value"
   ]
  },
  {
   "cell_type": "markdown",
   "id": "c27825c2",
   "metadata": {},
   "source": [
    "+ **Significance 5%**\n",
    "+ **alpha = 0.05**"
   ]
  },
  {
   "cell_type": "markdown",
   "id": "4b1c2b61",
   "metadata": {},
   "source": [
    "### As it is a one-tailed test\n",
    "+ **alpha = 1-0.95 = 0.05**"
   ]
  },
  {
   "cell_type": "markdown",
   "id": "67bd43ab",
   "metadata": {},
   "source": [
    "## Step 3 \n",
    "### Collect evidence"
   ]
  },
  {
   "cell_type": "markdown",
   "id": "ee0fc6eb",
   "metadata": {},
   "source": [
    "### Importing Files"
   ]
  },
  {
   "cell_type": "code",
   "execution_count": 2,
   "id": "43b5e55e",
   "metadata": {},
   "outputs": [
    {
     "data": {
      "text/html": [
       "<div>\n",
       "<style scoped>\n",
       "    .dataframe tbody tr th:only-of-type {\n",
       "        vertical-align: middle;\n",
       "    }\n",
       "\n",
       "    .dataframe tbody tr th {\n",
       "        vertical-align: top;\n",
       "    }\n",
       "\n",
       "    .dataframe thead th {\n",
       "        text-align: right;\n",
       "    }\n",
       "</style>\n",
       "<table border=\"1\" class=\"dataframe\">\n",
       "  <thead>\n",
       "    <tr style=\"text-align: right;\">\n",
       "      <th></th>\n",
       "      <th>East</th>\n",
       "      <th>West</th>\n",
       "      <th>North</th>\n",
       "      <th>South</th>\n",
       "    </tr>\n",
       "    <tr>\n",
       "      <th>Observed Values</th>\n",
       "      <th></th>\n",
       "      <th></th>\n",
       "      <th></th>\n",
       "      <th></th>\n",
       "    </tr>\n",
       "  </thead>\n",
       "  <tbody>\n",
       "    <tr>\n",
       "      <th>Males</th>\n",
       "      <td>50</td>\n",
       "      <td>142</td>\n",
       "      <td>131</td>\n",
       "      <td>70</td>\n",
       "    </tr>\n",
       "    <tr>\n",
       "      <th>Females</th>\n",
       "      <td>435</td>\n",
       "      <td>1523</td>\n",
       "      <td>1356</td>\n",
       "      <td>750</td>\n",
       "    </tr>\n",
       "  </tbody>\n",
       "</table>\n",
       "</div>"
      ],
      "text/plain": [
       "                 East  West  North  South\n",
       "Observed Values                          \n",
       "Males              50   142    131     70\n",
       "Females           435  1523   1356    750"
      ]
     },
     "execution_count": 2,
     "metadata": {},
     "output_type": "execute_result"
    }
   ],
   "source": [
    "buyer = pd.read_csv('E:/Freelance Projects/Coding with Jupeter Notebook for Data Science assignment/1. Hypothesis Testing/BuyerRatio.csv', index_col = 0)\n",
    "buyer"
   ]
  },
  {
   "cell_type": "code",
   "execution_count": 3,
   "id": "0e20c1b8",
   "metadata": {},
   "outputs": [],
   "source": [
    "table = [[50,142,131,70],\n",
    "        [435,1523,1356,750]]"
   ]
  },
  {
   "cell_type": "markdown",
   "id": "9ea5f1a9",
   "metadata": {},
   "source": [
    "### Applying Chi-Square $\\chi_2$ contingency table to convert observed value into expected value"
   ]
  },
  {
   "cell_type": "code",
   "execution_count": 4,
   "id": "aabae775",
   "metadata": {},
   "outputs": [
    {
     "name": "stdout",
     "output_type": "stream",
     "text": [
      "1.595945538661058 \n",
      " 0.6603094907091882 \n",
      " 3 \n",
      " [[  42.76531299  146.81287862  131.11756787   72.30424052]\n",
      " [ 442.23468701 1518.18712138 1355.88243213  747.69575948]]\n"
     ]
    }
   ],
   "source": [
    "stat, p, dof, exp = stats.chi2_contingency(buyer) \n",
    "print(stat,\"\\n\", p,\"\\n\", dof,\"\\n\", exp)"
   ]
  },
  {
   "cell_type": "code",
   "execution_count": 5,
   "id": "40bf3d9d",
   "metadata": {},
   "outputs": [
    {
     "data": {
      "text/plain": [
       "(1.595945538661058,\n",
       " 0.6603094907091882,\n",
       " 3,\n",
       " array([[  42.76531299,  146.81287862,  131.11756787,   72.30424052],\n",
       "        [ 442.23468701, 1518.18712138, 1355.88243213,  747.69575948]]))"
      ]
     },
     "execution_count": 5,
     "metadata": {},
     "output_type": "execute_result"
    }
   ],
   "source": [
    "stats.chi2_contingency(table) "
   ]
  },
  {
   "cell_type": "code",
   "execution_count": 7,
   "id": "3f94bc5a",
   "metadata": {},
   "outputs": [],
   "source": [
    "observed = np.array([50, 142, 131, 70, 435, 1523, 1356, 750])\n",
    "expected = np.array([42.76531299,  146.81287862,  131.11756787, 72.30424052, 442.23468701, 1518.18712138, 1355.88243213, 747.69575948])"
   ]
  },
  {
   "cell_type": "markdown",
   "id": "2510b038",
   "metadata": {},
   "source": [
    "## Step 4"
   ]
  },
  {
   "cell_type": "markdown",
   "id": "9fd569d6",
   "metadata": {},
   "source": [
    "### Comparing Evidence with Hypothesis"
   ]
  },
  {
   "cell_type": "code",
   "execution_count": 8,
   "id": "2024d72f",
   "metadata": {},
   "outputs": [
    {
     "name": "stdout",
     "output_type": "stream",
     "text": [
      "Statistics =  1.5959455390914483 \n",
      " P_Value =  0.8095206646905712\n"
     ]
    }
   ],
   "source": [
    "statistics, p_value = stats.chisquare(observed, expected, ddof = 3)\n",
    "print(\"Statistics = \",statistics,\"\\n\",'P_Value = ', p_value)"
   ]
  },
  {
   "cell_type": "markdown",
   "id": "7a94a64d",
   "metadata": {},
   "source": [
    "### Compare p_value with '$\\alpha$ '(Significane Level)"
   ]
  },
  {
   "cell_type": "markdown",
   "id": "4c04deb7",
   "metadata": {},
   "source": [
    "### If p_value is $\\neq$ '$\\alpha$ ' we failed to reject Null Hypothesis because of lack of evidence \n",
    "### If p_value is = '$\\alpha$ ' we reject Null Hypothesis"
   ]
  },
  {
   "cell_type": "markdown",
   "id": "245b3e0f",
   "metadata": {},
   "source": [
    "### interpreting p-value"
   ]
  },
  {
   "cell_type": "code",
   "execution_count": 9,
   "id": "0296e8fb",
   "metadata": {},
   "outputs": [
    {
     "name": "stdout",
     "output_type": "stream",
     "text": [
      "Significnace=0.050, p=0.810\n",
      "We fail to reject Null hypothesis\n"
     ]
    }
   ],
   "source": [
    "alpha = 0.05\n",
    "print('Significnace=%.3f, p=%.3f' % (alpha, p_value))\n",
    "if p_value <= alpha:\n",
    "    print('We reject Null Hypothesis there is a significance difference between TAT of reports of the laboratories')\n",
    "else:\n",
    "    print('We fail to reject Null hypothesis')"
   ]
  },
  {
   "cell_type": "markdown",
   "id": "a224e547",
   "metadata": {},
   "source": [
    "## We fail to reject Null Hypothesis because of lack evidence. Therefore, there is no association or dependency between male-female buyers rations and are similar across regions. Hence, Independent samples"
   ]
  },
  {
   "cell_type": "code",
   "execution_count": null,
   "id": "7b0e3c53",
   "metadata": {},
   "outputs": [],
   "source": []
  }
 ],
 "metadata": {
  "kernelspec": {
   "display_name": "Python 3",
   "language": "python",
   "name": "python3"
  },
  "language_info": {
   "codemirror_mode": {
    "name": "ipython",
    "version": 3
   },
   "file_extension": ".py",
   "mimetype": "text/x-python",
   "name": "python",
   "nbconvert_exporter": "python",
   "pygments_lexer": "ipython3",
   "version": "3.8.8"
  }
 },
 "nbformat": 4,
 "nbformat_minor": 5
}
