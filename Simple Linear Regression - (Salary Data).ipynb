{
 "cells": [
  {
   "cell_type": "code",
   "execution_count": 2,
   "id": "2bf7f60f",
   "metadata": {},
   "outputs": [],
   "source": [
    "#### importing libraries \n",
    "import pandas as pd\n",
    "import seaborn as sns\n",
    "import numpy as np\n",
    "import matplotlib.pyplot as plt\n",
    "from sklearn.linear_model import LinearRegression  ### Model\n",
    "from sklearn.metrics import r2_score,mean_squared_error"
   ]
  },
  {
   "cell_type": "code",
   "execution_count": 4,
   "id": "152f7129",
   "metadata": {},
   "outputs": [
    {
     "data": {
      "text/html": [
       "<div>\n",
       "<style scoped>\n",
       "    .dataframe tbody tr th:only-of-type {\n",
       "        vertical-align: middle;\n",
       "    }\n",
       "\n",
       "    .dataframe tbody tr th {\n",
       "        vertical-align: top;\n",
       "    }\n",
       "\n",
       "    .dataframe thead th {\n",
       "        text-align: right;\n",
       "    }\n",
       "</style>\n",
       "<table border=\"1\" class=\"dataframe\">\n",
       "  <thead>\n",
       "    <tr style=\"text-align: right;\">\n",
       "      <th></th>\n",
       "      <th>YearsExperience</th>\n",
       "      <th>Salary</th>\n",
       "    </tr>\n",
       "  </thead>\n",
       "  <tbody>\n",
       "    <tr>\n",
       "      <th>0</th>\n",
       "      <td>1.1</td>\n",
       "      <td>39343.0</td>\n",
       "    </tr>\n",
       "    <tr>\n",
       "      <th>1</th>\n",
       "      <td>1.3</td>\n",
       "      <td>46205.0</td>\n",
       "    </tr>\n",
       "    <tr>\n",
       "      <th>2</th>\n",
       "      <td>1.5</td>\n",
       "      <td>37731.0</td>\n",
       "    </tr>\n",
       "    <tr>\n",
       "      <th>3</th>\n",
       "      <td>2.0</td>\n",
       "      <td>43525.0</td>\n",
       "    </tr>\n",
       "    <tr>\n",
       "      <th>4</th>\n",
       "      <td>2.2</td>\n",
       "      <td>39891.0</td>\n",
       "    </tr>\n",
       "  </tbody>\n",
       "</table>\n",
       "</div>"
      ],
      "text/plain": [
       "   YearsExperience   Salary\n",
       "0              1.1  39343.0\n",
       "1              1.3  46205.0\n",
       "2              1.5  37731.0\n",
       "3              2.0  43525.0\n",
       "4              2.2  39891.0"
      ]
     },
     "execution_count": 4,
     "metadata": {},
     "output_type": "execute_result"
    }
   ],
   "source": [
    "#### Reading the data\n",
    "data = pd.read_csv(\"Salary_Data.csv\") ### Upload the file in jupyter first\n",
    "#### Checking the 1st Five Rows\n",
    "data.head(5)"
   ]
  },
  {
   "cell_type": "code",
   "execution_count": 5,
   "id": "d5cf3a70",
   "metadata": {},
   "outputs": [
    {
     "data": {
      "text/html": [
       "<div>\n",
       "<style scoped>\n",
       "    .dataframe tbody tr th:only-of-type {\n",
       "        vertical-align: middle;\n",
       "    }\n",
       "\n",
       "    .dataframe tbody tr th {\n",
       "        vertical-align: top;\n",
       "    }\n",
       "\n",
       "    .dataframe thead th {\n",
       "        text-align: right;\n",
       "    }\n",
       "</style>\n",
       "<table border=\"1\" class=\"dataframe\">\n",
       "  <thead>\n",
       "    <tr style=\"text-align: right;\">\n",
       "      <th></th>\n",
       "      <th>YearsExperience</th>\n",
       "      <th>Salary</th>\n",
       "    </tr>\n",
       "  </thead>\n",
       "  <tbody>\n",
       "    <tr>\n",
       "      <th>count</th>\n",
       "      <td>30.000000</td>\n",
       "      <td>30.000000</td>\n",
       "    </tr>\n",
       "    <tr>\n",
       "      <th>mean</th>\n",
       "      <td>5.313333</td>\n",
       "      <td>76003.000000</td>\n",
       "    </tr>\n",
       "    <tr>\n",
       "      <th>std</th>\n",
       "      <td>2.837888</td>\n",
       "      <td>27414.429785</td>\n",
       "    </tr>\n",
       "    <tr>\n",
       "      <th>min</th>\n",
       "      <td>1.100000</td>\n",
       "      <td>37731.000000</td>\n",
       "    </tr>\n",
       "    <tr>\n",
       "      <th>25%</th>\n",
       "      <td>3.200000</td>\n",
       "      <td>56720.750000</td>\n",
       "    </tr>\n",
       "    <tr>\n",
       "      <th>50%</th>\n",
       "      <td>4.700000</td>\n",
       "      <td>65237.000000</td>\n",
       "    </tr>\n",
       "    <tr>\n",
       "      <th>75%</th>\n",
       "      <td>7.700000</td>\n",
       "      <td>100544.750000</td>\n",
       "    </tr>\n",
       "    <tr>\n",
       "      <th>max</th>\n",
       "      <td>10.500000</td>\n",
       "      <td>122391.000000</td>\n",
       "    </tr>\n",
       "  </tbody>\n",
       "</table>\n",
       "</div>"
      ],
      "text/plain": [
       "       YearsExperience         Salary\n",
       "count        30.000000      30.000000\n",
       "mean          5.313333   76003.000000\n",
       "std           2.837888   27414.429785\n",
       "min           1.100000   37731.000000\n",
       "25%           3.200000   56720.750000\n",
       "50%           4.700000   65237.000000\n",
       "75%           7.700000  100544.750000\n",
       "max          10.500000  122391.000000"
      ]
     },
     "execution_count": 5,
     "metadata": {},
     "output_type": "execute_result"
    }
   ],
   "source": [
    "#### To describe the details of the data\n",
    "data.describe()"
   ]
  },
  {
   "cell_type": "markdown",
   "id": "2d4c8af7",
   "metadata": {},
   "source": [
    "## Exploratory Data Analysis"
   ]
  },
  {
   "cell_type": "code",
   "execution_count": 6,
   "id": "945ab5f2",
   "metadata": {},
   "outputs": [
    {
     "data": {
      "text/plain": [
       "YearsExperience    0\n",
       "Salary             0\n",
       "dtype: int64"
      ]
     },
     "execution_count": 6,
     "metadata": {},
     "output_type": "execute_result"
    }
   ],
   "source": [
    "#### Checking of Missing Values in the data\n",
    "data.isnull().sum()"
   ]
  },
  {
   "cell_type": "code",
   "execution_count": 7,
   "id": "5ade958f",
   "metadata": {},
   "outputs": [
    {
     "data": {
      "text/plain": [
       "Text(0.5, 1.0, 'Salary and YearsExperience Analysis')"
      ]
     },
     "execution_count": 7,
     "metadata": {},
     "output_type": "execute_result"
    },
    {
     "data": {
      "image/png": "[encoded data removed]",
      "text/plain": [
       "<Figure size 432x288 with 1 Axes>"
      ]
     },
     "metadata": {
      "needs_background": "light"
     },
     "output_type": "display_data"
    }
   ],
   "source": [
    "plt.scatter(data['YearsExperience'],data['Salary'])\n",
    "plt.ylabel(\"YearsExperience\")\n",
    "plt.xlabel(\"Salary\")\n",
    "plt.title(\"Salary and YearsExperience Analysis\")"
   ]
  },
  {
   "cell_type": "markdown",
   "id": "366f9a52",
   "metadata": {},
   "source": [
    "#### Both the Columns does not have any missing values"
   ]
  },
  {
   "cell_type": "code",
   "execution_count": 8,
   "id": "59649d11",
   "metadata": {},
   "outputs": [
    {
     "name": "stdout",
     "output_type": "stream",
     "text": [
      "The number of rows is -  30\n",
      "The number of columns is -  2\n"
     ]
    }
   ],
   "source": [
    "##### Checking the Number of rows and Columns \n",
    "rows = data.shape[0]\n",
    "print(\"The number of rows is - \",rows)\n",
    "columns = data.shape[1]\n",
    "print(\"The number of columns is - \",columns)"
   ]
  },
  {
   "cell_type": "code",
   "execution_count": 10,
   "id": "b50b2257",
   "metadata": {},
   "outputs": [
    {
     "data": {
      "text/plain": [
       "<AxesSubplot:xlabel='YearsExperience'>"
      ]
     },
     "execution_count": 10,
     "metadata": {},
     "output_type": "execute_result"
    },
    {
     "data": {
      "image/png": "[encoded data removed]",
      "text/plain": [
       "<Figure size 432x288 with 1 Axes>"
      ]
     },
     "metadata": {
      "needs_background": "light"
     },
     "output_type": "display_data"
    }
   ],
   "source": [
    "sns.boxplot(x = data['YearsExperience'])"
   ]
  },
  {
   "cell_type": "code",
   "execution_count": 11,
   "id": "02c8ab4a",
   "metadata": {},
   "outputs": [
    {
     "data": {
      "text/plain": [
       "<AxesSubplot:xlabel='Salary'>"
      ]
     },
     "execution_count": 11,
     "metadata": {},
     "output_type": "execute_result"
    },
    {
     "data": {
      "image/png": "[encoded data removed]",
      "text/plain": [
       "<Figure size 432x288 with 1 Axes>"
      ]
     },
     "metadata": {
      "needs_background": "light"
     },
     "output_type": "display_data"
    }
   ],
   "source": [
    "sns.boxplot(x = data['Salary'])"
   ]
  },
  {
   "cell_type": "code",
   "execution_count": 12,
   "id": "8594ade1",
   "metadata": {},
   "outputs": [],
   "source": [
    "#### From the above two graph we can see that there are no outliers in the data"
   ]
  },
  {
   "cell_type": "code",
   "execution_count": 14,
   "id": "548ab1b9",
   "metadata": {},
   "outputs": [
    {
     "data": {
      "text/plain": [
       "<seaborn.axisgrid.FacetGrid at 0x1e2a0b9a7f0>"
      ]
     },
     "execution_count": 14,
     "metadata": {},
     "output_type": "execute_result"
    },
    {
     "data": {
      "image/png": "[encoded data removed]",
      "text/plain": [
       "<Figure size 360x360 with 1 Axes>"
      ]
     },
     "metadata": {
      "needs_background": "light"
     },
     "output_type": "display_data"
    }
   ],
   "source": [
    "sns.displot(x = data['Salary'])"
   ]
  },
  {
   "cell_type": "code",
   "execution_count": null,
   "id": "f13737a1",
   "metadata": {},
   "outputs": [],
   "source": [
    "#### From the above two graph we can see that the data is normally distributed."
   ]
  },
  {
   "cell_type": "code",
   "execution_count": null,
   "id": "e64fada0",
   "metadata": {},
   "outputs": [],
   "source": [
    "sns.displot(x = data['YearsExperience'])"
   ]
  },
  {
   "cell_type": "markdown",
   "id": "1fc90e03",
   "metadata": {},
   "source": [
    "### Linear Regression Model to Predict Delivery Time"
   ]
  },
  {
   "cell_type": "code",
   "execution_count": 16,
   "id": "8e65d96b",
   "metadata": {},
   "outputs": [],
   "source": [
    "### Creating of Dependent and Independent Variables\n",
    "X = data['YearsExperience'].values\n",
    "X##### Independent Variable\n",
    "X = X.reshape(-1,1) #### Reshaping into proper numpy array."
   ]
  },
  {
   "cell_type": "code",
   "execution_count": 17,
   "id": "0e6d54f2",
   "metadata": {
    "collapsed": true
   },
   "outputs": [
    {
     "data": {
      "text/plain": [
       "array([[ 1.1],\n",
       "       [ 1.3],\n",
       "       [ 1.5],\n",
       "       [ 2. ],\n",
       "       [ 2.2],\n",
       "       [ 2.9],\n",
       "       [ 3. ],\n",
       "       [ 3.2],\n",
       "       [ 3.2],\n",
       "       [ 3.7],\n",
       "       [ 3.9],\n",
       "       [ 4. ],\n",
       "       [ 4. ],\n",
       "       [ 4.1],\n",
       "       [ 4.5],\n",
       "       [ 4.9],\n",
       "       [ 5.1],\n",
       "       [ 5.3],\n",
       "       [ 5.9],\n",
       "       [ 6. ],\n",
       "       [ 6.8],\n",
       "       [ 7.1],\n",
       "       [ 7.9],\n",
       "       [ 8.2],\n",
       "       [ 8.7],\n",
       "       [ 9. ],\n",
       "       [ 9.5],\n",
       "       [ 9.6],\n",
       "       [10.3],\n",
       "       [10.5]])"
      ]
     },
     "execution_count": 17,
     "metadata": {},
     "output_type": "execute_result"
    }
   ],
   "source": [
    "X ### Independent Variable"
   ]
  },
  {
   "cell_type": "code",
   "execution_count": 18,
   "id": "1523949f",
   "metadata": {},
   "outputs": [],
   "source": [
    "y = data['Salary'].values   #### Dependent Variable\n",
    "y = y.reshape(-1,1)"
   ]
  },
  {
   "cell_type": "markdown",
   "id": "555aab0b",
   "metadata": {},
   "source": [
    "#### Model Training "
   ]
  },
  {
   "cell_type": "code",
   "execution_count": 19,
   "id": "a8e3c0e7",
   "metadata": {},
   "outputs": [
    {
     "name": "stdout",
     "output_type": "stream",
     "text": [
      "The Model is Fitted and Trained\n"
     ]
    }
   ],
   "source": [
    "model = LinearRegression()\n",
    "model_training = model.fit(X,y)  #### Entire data is for training\n",
    "print(\"The Model is Fitted and Trained\")"
   ]
  },
  {
   "cell_type": "markdown",
   "id": "d4e63ce2",
   "metadata": {},
   "source": [
    "#### Model Prediction"
   ]
  },
  {
   "cell_type": "code",
   "execution_count": 20,
   "id": "e2254995",
   "metadata": {
    "collapsed": true
   },
   "outputs": [
    {
     "data": {
      "text/plain": [
       "array([[ 36187.15875227],\n",
       "       [ 38077.15121656],\n",
       "       [ 39967.14368085],\n",
       "       [ 44692.12484158],\n",
       "       [ 46582.11730587],\n",
       "       [ 53197.09093089],\n",
       "       [ 54142.08716303],\n",
       "       [ 56032.07962732],\n",
       "       [ 56032.07962732],\n",
       "       [ 60757.06078805],\n",
       "       [ 62647.05325234],\n",
       "       [ 63592.04948449],\n",
       "       [ 63592.04948449],\n",
       "       [ 64537.04571663],\n",
       "       [ 68317.03064522],\n",
       "       [ 72097.0155738 ],\n",
       "       [ 73987.00803809],\n",
       "       [ 75877.00050238],\n",
       "       [ 81546.97789525],\n",
       "       [ 82491.9741274 ],\n",
       "       [ 90051.94398456],\n",
       "       [ 92886.932681  ],\n",
       "       [100446.90253816],\n",
       "       [103281.8912346 ],\n",
       "       [108006.87239533],\n",
       "       [110841.86109176],\n",
       "       [115566.84225249],\n",
       "       [116511.83848464],\n",
       "       [123126.81210966],\n",
       "       [125016.80457395]])"
      ]
     },
     "execution_count": 20,
     "metadata": {},
     "output_type": "execute_result"
    }
   ],
   "source": [
    "prediction = model_training.predict(X)  ####21\n",
    "prediction"
   ]
  },
  {
   "cell_type": "markdown",
   "id": "23d6c967",
   "metadata": {},
   "source": [
    "#### Model Evaluation"
   ]
  },
  {
   "cell_type": "code",
   "execution_count": 15,
   "id": "887d9108",
   "metadata": {},
   "outputs": [
    {
     "name": "stdout",
     "output_type": "stream",
     "text": [
      "The Accuracy of the training Model is -  95.7 %\n"
     ]
    }
   ],
   "source": [
    "### Training Model\n",
    "Accuracy_training_model = round(model_training.score(X,y)*100,2)  ### Round is used to round of the decimal\n",
    "print(\"The Accuracy of the training Model is - \", Accuracy_training_model,\"%\")"
   ]
  },
  {
   "cell_type": "code",
   "execution_count": 16,
   "id": "4705b5ac",
   "metadata": {},
   "outputs": [
    {
     "name": "stdout",
     "output_type": "stream",
     "text": [
      "The Accuracy of the prediction Model is -  95.7 %\n"
     ]
    }
   ],
   "source": [
    "### Prediction Accuracy\n",
    "Accuracy_prediction = round(r2_score(y,prediction)*100,2)\n",
    "print(\"The Accuracy of the prediction Model is - \", Accuracy_prediction,\"%\")"
   ]
  },
  {
   "cell_type": "code",
   "execution_count": 17,
   "id": "f3d6a61f",
   "metadata": {},
   "outputs": [
    {
     "name": "stdout",
     "output_type": "stream",
     "text": [
      "The Error of the Model is  -  31270951.72\n"
     ]
    }
   ],
   "source": [
    "#### Mean Squared Error\n",
    "mse = mean_squared_error(y,prediction)\n",
    "print(\"The Error of the Model is  - \", round(mse,2)) "
   ]
  },
  {
   "cell_type": "code",
   "execution_count": 18,
   "id": "2f218aeb",
   "metadata": {},
   "outputs": [
    {
     "data": {
      "text/plain": [
       "Text(0.5, 1.0, 'Delivery and Sorting Time Analysis')"
      ]
     },
     "execution_count": 18,
     "metadata": {},
     "output_type": "execute_result"
    },
    {
     "data": {
      "image/png": "[encoded data removed]",
      "text/plain": [
       "<Figure size 432x288 with 1 Axes>"
      ]
     },
     "metadata": {
      "needs_background": "light"
     },
     "output_type": "display_data"
    }
   ],
   "source": [
    "plt.scatter(data['YearsExperience'],data['Salary'])\n",
    "plt.plot(X,prediction,color='red')\n",
    "plt.ylabel(\"Delivery Time\")\n",
    "plt.xlabel(\"Sorting Time\")\n",
    "plt.title(\"Delivery and Sorting Time Analysis\")"
   ]
  },
  {
   "cell_type": "code",
   "execution_count": 19,
   "id": "e343bdbb",
   "metadata": {},
   "outputs": [],
   "source": [
    "#### Inference - The above figure shows you the best fit line nased on the Delivery time and Sorting Time\n",
    "### with an accuracy of 95%"
   ]
  },
  {
   "cell_type": "markdown",
   "id": "9c1e2b4f",
   "metadata": {},
   "source": [
    "#### Log Transformation"
   ]
  },
  {
   "cell_type": "code",
   "execution_count": 21,
   "id": "e7a59f4b",
   "metadata": {
    "collapsed": true
   },
   "outputs": [
    {
     "data": {
      "text/plain": [
       "array([[0.09531018],\n",
       "       [0.26236426],\n",
       "       [0.40546511],\n",
       "       [0.69314718],\n",
       "       [0.78845736],\n",
       "       [1.06471074],\n",
       "       [1.09861229],\n",
       "       [1.16315081],\n",
       "       [1.16315081],\n",
       "       [1.30833282],\n",
       "       [1.36097655],\n",
       "       [1.38629436],\n",
       "       [1.38629436],\n",
       "       [1.41098697],\n",
       "       [1.5040774 ],\n",
       "       [1.58923521],\n",
       "       [1.62924054],\n",
       "       [1.66770682],\n",
       "       [1.77495235],\n",
       "       [1.79175947],\n",
       "       [1.91692261],\n",
       "       [1.96009478],\n",
       "       [2.06686276],\n",
       "       [2.10413415],\n",
       "       [2.16332303],\n",
       "       [2.19722458],\n",
       "       [2.2512918 ],\n",
       "       [2.2617631 ],\n",
       "       [2.3321439 ],\n",
       "       [2.35137526]])"
      ]
     },
     "execution_count": 21,
     "metadata": {},
     "output_type": "execute_result"
    }
   ],
   "source": [
    "X_log = np.log(X)\n",
    "X_log"
   ]
  },
  {
   "cell_type": "code",
   "execution_count": 22,
   "id": "f3ecdcaf",
   "metadata": {
    "collapsed": true
   },
   "outputs": [
    {
     "data": {
      "text/plain": [
       "array([[10.58007335],\n",
       "       [10.7408433 ],\n",
       "       [10.53823732],\n",
       "       [10.68109076],\n",
       "       [10.59390601],\n",
       "       [10.94450604],\n",
       "       [11.00459672],\n",
       "       [10.9049463 ],\n",
       "       [11.07356743],\n",
       "       [10.95411685],\n",
       "       [11.05434435],\n",
       "       [10.92942162],\n",
       "       [10.95005188],\n",
       "       [10.95222659],\n",
       "       [11.02044716],\n",
       "       [11.1263508 ],\n",
       "       [11.09784932],\n",
       "       [11.32765557],\n",
       "       [11.3066759 ],\n",
       "       [11.45041156],\n",
       "       [11.42669197],\n",
       "       [11.4955046 ],\n",
       "       [11.52586143],\n",
       "       [11.64230324],\n",
       "       [11.60304949],\n",
       "       [11.56724318],\n",
       "       [11.66966422],\n",
       "       [11.63190778],\n",
       "       [11.71497612],\n",
       "       [11.71072659]])"
      ]
     },
     "execution_count": 22,
     "metadata": {},
     "output_type": "execute_result"
    }
   ],
   "source": [
    "y_log = np.log(y)\n",
    "y_log"
   ]
  },
  {
   "cell_type": "code",
   "execution_count": 23,
   "id": "f197a331",
   "metadata": {},
   "outputs": [
    {
     "name": "stdout",
     "output_type": "stream",
     "text": [
      "The Model is Fitted and Trained\n"
     ]
    }
   ],
   "source": [
    "model_log = LinearRegression()\n",
    "model_training_log = model_log.fit(X_log,y_log)  #### Entire data is for training\n",
    "print(\"The Model is Fitted and Trained\")"
   ]
  },
  {
   "cell_type": "code",
   "execution_count": 25,
   "id": "bf803610",
   "metadata": {},
   "outputs": [
    {
     "name": "stdout",
     "output_type": "stream",
     "text": [
      "The Accuracy of the training Log Model is -  90.52 %\n"
     ]
    }
   ],
   "source": [
    "### Training Model\n",
    "Accuracy_training_model = round(model_training_log.score(X_log,y_log)*100,2)  ### Round is used to round of the decimal\n",
    "print(\"The Accuracy of the training Log Model is - \", Accuracy_training_model,\"%\")"
   ]
  },
  {
   "cell_type": "markdown",
   "id": "a99ca884",
   "metadata": {},
   "source": [
    "#### Squareroot Transformation"
   ]
  },
  {
   "cell_type": "code",
   "execution_count": 26,
   "id": "fd64fca0",
   "metadata": {
    "collapsed": true
   },
   "outputs": [
    {
     "data": {
      "text/plain": [
       "array([[1.04880885],\n",
       "       [1.14017543],\n",
       "       [1.22474487],\n",
       "       [1.41421356],\n",
       "       [1.4832397 ],\n",
       "       [1.70293864],\n",
       "       [1.73205081],\n",
       "       [1.78885438],\n",
       "       [1.78885438],\n",
       "       [1.92353841],\n",
       "       [1.97484177],\n",
       "       [2.        ],\n",
       "       [2.        ],\n",
       "       [2.02484567],\n",
       "       [2.12132034],\n",
       "       [2.21359436],\n",
       "       [2.25831796],\n",
       "       [2.30217289],\n",
       "       [2.42899156],\n",
       "       [2.44948974],\n",
       "       [2.60768096],\n",
       "       [2.66458252],\n",
       "       [2.81069386],\n",
       "       [2.86356421],\n",
       "       [2.94957624],\n",
       "       [3.        ],\n",
       "       [3.082207  ],\n",
       "       [3.09838668],\n",
       "       [3.20936131],\n",
       "       [3.24037035]])"
      ]
     },
     "execution_count": 26,
     "metadata": {},
     "output_type": "execute_result"
    }
   ],
   "source": [
    "X_sqrt = np.sqrt(X)\n",
    "X_sqrt"
   ]
  },
  {
   "cell_type": "code",
   "execution_count": 27,
   "id": "a04a3ee1",
   "metadata": {
    "collapsed": true
   },
   "outputs": [
    {
     "data": {
      "text/plain": [
       "array([[198.35069952],\n",
       "       [214.95348334],\n",
       "       [194.24469105],\n",
       "       [208.62646045],\n",
       "       [199.72731411],\n",
       "       [237.99579828],\n",
       "       [245.25496937],\n",
       "       [233.33452381],\n",
       "       [253.86019775],\n",
       "       [239.1422171 ],\n",
       "       [251.43189933],\n",
       "       [236.20753587],\n",
       "       [238.65665715],\n",
       "       [238.91630334],\n",
       "       [247.2063915 ],\n",
       "       [260.64918952],\n",
       "       [256.96108655],\n",
       "       [288.24989159],\n",
       "       [285.24200252],\n",
       "       [306.4963295 ],\n",
       "       [302.88281562],\n",
       "       [313.48524686],\n",
       "       [318.27975116],\n",
       "       [337.36034147],\n",
       "       [330.80356709],\n",
       "       [324.93383942],\n",
       "       [342.00730986],\n",
       "       [335.61138241],\n",
       "       [349.84425106],\n",
       "       [349.10170438]])"
      ]
     },
     "execution_count": 27,
     "metadata": {},
     "output_type": "execute_result"
    }
   ],
   "source": [
    "y_sqrt = np.sqrt(y)\n",
    "y_sqrt"
   ]
  },
  {
   "cell_type": "code",
   "execution_count": 28,
   "id": "ca8656ec",
   "metadata": {},
   "outputs": [
    {
     "name": "stdout",
     "output_type": "stream",
     "text": [
      "The Model is Fitted and Trained\n"
     ]
    }
   ],
   "source": [
    "model_sqrt = LinearRegression()\n",
    "model_training_sqrt = model_sqrt.fit(X_sqrt,y_sqrt)  #### Entire data is for training\n",
    "print(\"The Model is Fitted and Trained\")"
   ]
  },
  {
   "cell_type": "code",
   "execution_count": 29,
   "id": "a8a6786d",
   "metadata": {},
   "outputs": [
    {
     "name": "stdout",
     "output_type": "stream",
     "text": [
      "The Accuracy of the training sqareroot Model is -  94.19 %\n"
     ]
    }
   ],
   "source": [
    "### Training Model\n",
    "Accuracy_training_model = round(model_training_sqrt.score(X_sqrt,y_sqrt)*100,2)  ### Round is used to round of the decimal\n",
    "print(\"The Accuracy of the training sqareroot Model is - \", Accuracy_training_model,\"%\")"
   ]
  },
  {
   "cell_type": "markdown",
   "id": "34868b87",
   "metadata": {},
   "source": [
    "#### Square Transformation"
   ]
  },
  {
   "cell_type": "code",
   "execution_count": 30,
   "id": "3a9d6455",
   "metadata": {
    "collapsed": true
   },
   "outputs": [
    {
     "data": {
      "text/plain": [
       "array([[  1.21],\n",
       "       [  1.69],\n",
       "       [  2.25],\n",
       "       [  4.  ],\n",
       "       [  4.84],\n",
       "       [  8.41],\n",
       "       [  9.  ],\n",
       "       [ 10.24],\n",
       "       [ 10.24],\n",
       "       [ 13.69],\n",
       "       [ 15.21],\n",
       "       [ 16.  ],\n",
       "       [ 16.  ],\n",
       "       [ 16.81],\n",
       "       [ 20.25],\n",
       "       [ 24.01],\n",
       "       [ 26.01],\n",
       "       [ 28.09],\n",
       "       [ 34.81],\n",
       "       [ 36.  ],\n",
       "       [ 46.24],\n",
       "       [ 50.41],\n",
       "       [ 62.41],\n",
       "       [ 67.24],\n",
       "       [ 75.69],\n",
       "       [ 81.  ],\n",
       "       [ 90.25],\n",
       "       [ 92.16],\n",
       "       [106.09],\n",
       "       [110.25]])"
      ]
     },
     "execution_count": 30,
     "metadata": {},
     "output_type": "execute_result"
    }
   ],
   "source": [
    "X_square = np.square(X)\n",
    "X_square"
   ]
  },
  {
   "cell_type": "code",
   "execution_count": 31,
   "id": "195f6aae",
   "metadata": {
    "collapsed": true
   },
   "outputs": [
    {
     "data": {
      "text/plain": [
       "array([[1.54787165e+09],\n",
       "       [2.13490202e+09],\n",
       "       [1.42362836e+09],\n",
       "       [1.89442562e+09],\n",
       "       [1.59129188e+09],\n",
       "       [3.20831616e+09],\n",
       "       [3.61802250e+09],\n",
       "       [2.96425802e+09],\n",
       "       [4.15315802e+09],\n",
       "       [3.27058172e+09],\n",
       "       [3.99651552e+09],\n",
       "       [3.11297044e+09],\n",
       "       [3.24409985e+09],\n",
       "       [3.25824056e+09],\n",
       "       [3.73455432e+09],\n",
       "       [4.61557184e+09],\n",
       "       [4.35982884e+09],\n",
       "       [6.90361574e+09],\n",
       "       [6.61993777e+09],\n",
       "       [8.82472360e+09],\n",
       "       [8.41586064e+09],\n",
       "       [9.65758253e+09],\n",
       "       [1.02620952e+10],\n",
       "       [1.29531713e+10],\n",
       "       [1.19751438e+10],\n",
       "       [1.11475587e+10],\n",
       "       [1.36817470e+10],\n",
       "       [1.26866432e+10],\n",
       "       [1.49795569e+10],\n",
       "       [1.48527844e+10]])"
      ]
     },
     "execution_count": 31,
     "metadata": {},
     "output_type": "execute_result"
    }
   ],
   "source": [
    "y_square = np.square(y)\n",
    "y_square"
   ]
  },
  {
   "cell_type": "code",
   "execution_count": 34,
   "id": "a2bc985b",
   "metadata": {},
   "outputs": [
    {
     "name": "stdout",
     "output_type": "stream",
     "text": [
      "The Model is Fitted and Trained\n"
     ]
    }
   ],
   "source": [
    "model_square = LinearRegression()\n",
    "model_training_square = model_square.fit(X_square,y_square)  #### Entire data is for training\n",
    "print(\"The Model is Fitted and Trained\")"
   ]
  },
  {
   "cell_type": "code",
   "execution_count": 35,
   "id": "d445c2e6",
   "metadata": {},
   "outputs": [
    {
     "name": "stdout",
     "output_type": "stream",
     "text": [
      "The Accuracy of the training sqareroot Model is -  95.41 %\n"
     ]
    }
   ],
   "source": [
    "### Training Model\n",
    "Accuracy_training_model = round(model_training_square.score(X_square,y_square)*100,2)  ### Round is used to round of the decimal\n",
    "print(\"The Accuracy of the training sqareroot Model is - \", Accuracy_training_model,\"%\")"
   ]
  },
  {
   "cell_type": "code",
   "execution_count": null,
   "id": "b02e9eb3",
   "metadata": {},
   "outputs": [],
   "source": []
  }
 ],
 "metadata": {
  "kernelspec": {
   "display_name": "Python 3",
   "language": "python",
   "name": "python3"
  },
  "language_info": {
   "codemirror_mode": {
    "name": "ipython",
    "version": 3
   },
   "file_extension": ".py",
   "mimetype": "text/x-python",
   "name": "python",
   "nbconvert_exporter": "python",
   "pygments_lexer": "ipython3",
   "version": "3.8.8"
  }
 },
 "nbformat": 4,
 "nbformat_minor": 5
}
